{
 "cells": [
  {
   "cell_type": "markdown",
   "metadata": {},
   "source": [
    "#  Create a custom covariance matrix"
   ]
  },
  {
   "cell_type": "code",
   "execution_count": 1,
   "metadata": {},
   "outputs": [],
   "source": [
    "import sandy"
   ]
  },
  {
   "cell_type": "code",
   "execution_count": 2,
   "metadata": {},
   "outputs": [],
   "source": [
    "import pandas as pd\n",
    "import numpy as np\n",
    "import tempfile\n",
    "import os\n",
    "\n",
    "pd.options.display.float_format = '{:.5e}'.format"
   ]
  },
  {
   "cell_type": "markdown",
   "metadata": {},
   "source": [
    "This notebook explains how to create a custom covariance matrix for a energy-dependent cross section.\n",
    "In this example only one material (MT) and one reaction (MT) are used, but the exercise can be extended to other combinations. "
   ]
  },
  {
   "cell_type": "markdown",
   "metadata": {},
   "source": [
    "First, we define an energy grid for which intervals are uniformly distributed on a logarithmic scale."
   ]
  },
  {
   "cell_type": "code",
   "execution_count": 3,
   "metadata": {},
   "outputs": [
    {
     "data": {
      "text/plain": [
       "array([1.00000000e-05, 1.77827941e-05, 3.16227766e-05, 5.62341325e-05,\n",
       "       1.00000000e-04, 1.77827941e-04, 3.16227766e-04, 5.62341325e-04,\n",
       "       1.00000000e-03, 1.77827941e-03, 3.16227766e-03, 5.62341325e-03,\n",
       "       1.00000000e-02, 1.77827941e-02, 3.16227766e-02, 5.62341325e-02,\n",
       "       1.00000000e-01, 1.77827941e-01, 3.16227766e-01, 5.62341325e-01,\n",
       "       1.00000000e+00, 1.77827941e+00, 3.16227766e+00, 5.62341325e+00,\n",
       "       1.00000000e+01, 1.77827941e+01, 3.16227766e+01, 5.62341325e+01,\n",
       "       1.00000000e+02, 1.77827941e+02, 3.16227766e+02, 5.62341325e+02,\n",
       "       1.00000000e+03, 1.77827941e+03, 3.16227766e+03, 5.62341325e+03,\n",
       "       1.00000000e+04, 1.77827941e+04, 3.16227766e+04, 5.62341325e+04,\n",
       "       1.00000000e+05, 1.77827941e+05, 3.16227766e+05, 5.62341325e+05,\n",
       "       1.00000000e+06, 1.77827941e+06, 3.16227766e+06, 5.62341325e+06,\n",
       "       1.00000000e+07])"
      ]
     },
     "execution_count": 3,
     "metadata": {},
     "output_type": "execute_result"
    }
   ],
   "source": [
    "size = 49\n",
    "\n",
    "egrid = sandy.uniform_loggrid(1e-5, 1e7, size)\n",
    "egrid"
   ]
  },
  {
   "cell_type": "markdown",
   "metadata": {},
   "source": [
    "Then, we create a `pandas.MultiIndex` instance to use as the `index` and `columns` of the covariance matrix object. "
   ]
  },
  {
   "cell_type": "markdown",
   "metadata": {},
   "source": [
    "We resort to method `from_product` to make the `pd.MultiIndex` from the cartesian product of the MAT number, the MT number and the energy grid."
   ]
  },
  {
   "cell_type": "code",
   "execution_count": 4,
   "metadata": {},
   "outputs": [],
   "source": [
    "mat = 9437\n",
    "mt = 102\n",
    "index = pd.MultiIndex.from_product(([mat], [mt], egrid), names=[\"MAT\", \"MT\", \"E\"])"
   ]
  },
  {
   "cell_type": "markdown",
   "metadata": {},
   "source": [
    "To simplify the problem, we create a covariance matrix without correlations and with a constante variance.  "
   ]
  },
  {
   "cell_type": "code",
   "execution_count": 5,
   "metadata": {},
   "outputs": [
    {
     "data": {
      "text/html": [
       "<div>\n",
       "<style scoped>\n",
       "    .dataframe tbody tr th:only-of-type {\n",
       "        vertical-align: middle;\n",
       "    }\n",
       "\n",
       "    .dataframe tbody tr th {\n",
       "        vertical-align: top;\n",
       "    }\n",
       "\n",
       "    .dataframe thead tr th {\n",
       "        text-align: left;\n",
       "    }\n",
       "\n",
       "    .dataframe thead tr:last-of-type th {\n",
       "        text-align: right;\n",
       "    }\n",
       "</style>\n",
       "<table border=\"1\" class=\"dataframe\">\n",
       "  <thead>\n",
       "    <tr>\n",
       "      <th></th>\n",
       "      <th></th>\n",
       "      <th>MAT</th>\n",
       "      <th colspan=\"21\" halign=\"left\">9437</th>\n",
       "    </tr>\n",
       "    <tr>\n",
       "      <th></th>\n",
       "      <th></th>\n",
       "      <th>MT</th>\n",
       "      <th colspan=\"21\" halign=\"left\">102</th>\n",
       "    </tr>\n",
       "    <tr>\n",
       "      <th></th>\n",
       "      <th></th>\n",
       "      <th>E</th>\n",
       "      <th>1.00000e-05</th>\n",
       "      <th>1.77828e-05</th>\n",
       "      <th>3.16228e-05</th>\n",
       "      <th>5.62341e-05</th>\n",
       "      <th>1.00000e-04</th>\n",
       "      <th>1.77828e-04</th>\n",
       "      <th>3.16228e-04</th>\n",
       "      <th>5.62341e-04</th>\n",
       "      <th>1.00000e-03</th>\n",
       "      <th>1.77828e-03</th>\n",
       "      <th>...</th>\n",
       "      <th>5.62341e+04</th>\n",
       "      <th>1.00000e+05</th>\n",
       "      <th>1.77828e+05</th>\n",
       "      <th>3.16228e+05</th>\n",
       "      <th>5.62341e+05</th>\n",
       "      <th>1.00000e+06</th>\n",
       "      <th>1.77828e+06</th>\n",
       "      <th>3.16228e+06</th>\n",
       "      <th>5.62341e+06</th>\n",
       "      <th>1.00000e+07</th>\n",
       "    </tr>\n",
       "    <tr>\n",
       "      <th>MAT</th>\n",
       "      <th>MT</th>\n",
       "      <th>E</th>\n",
       "      <th></th>\n",
       "      <th></th>\n",
       "      <th></th>\n",
       "      <th></th>\n",
       "      <th></th>\n",
       "      <th></th>\n",
       "      <th></th>\n",
       "      <th></th>\n",
       "      <th></th>\n",
       "      <th></th>\n",
       "      <th></th>\n",
       "      <th></th>\n",
       "      <th></th>\n",
       "      <th></th>\n",
       "      <th></th>\n",
       "      <th></th>\n",
       "      <th></th>\n",
       "      <th></th>\n",
       "      <th></th>\n",
       "      <th></th>\n",
       "      <th></th>\n",
       "    </tr>\n",
       "  </thead>\n",
       "  <tbody>\n",
       "    <tr>\n",
       "      <th rowspan=\"5\" valign=\"top\">9437</th>\n",
       "      <th rowspan=\"5\" valign=\"top\">102</th>\n",
       "      <th>1.00000e-05</th>\n",
       "      <td>9.00000e-04</td>\n",
       "      <td>0.00000e+00</td>\n",
       "      <td>0.00000e+00</td>\n",
       "      <td>0.00000e+00</td>\n",
       "      <td>0.00000e+00</td>\n",
       "      <td>0.00000e+00</td>\n",
       "      <td>0.00000e+00</td>\n",
       "      <td>0.00000e+00</td>\n",
       "      <td>0.00000e+00</td>\n",
       "      <td>0.00000e+00</td>\n",
       "      <td>...</td>\n",
       "      <td>0.00000e+00</td>\n",
       "      <td>0.00000e+00</td>\n",
       "      <td>0.00000e+00</td>\n",
       "      <td>0.00000e+00</td>\n",
       "      <td>0.00000e+00</td>\n",
       "      <td>0.00000e+00</td>\n",
       "      <td>0.00000e+00</td>\n",
       "      <td>0.00000e+00</td>\n",
       "      <td>0.00000e+00</td>\n",
       "      <td>0.00000e+00</td>\n",
       "    </tr>\n",
       "    <tr>\n",
       "      <th>1.77828e-05</th>\n",
       "      <td>0.00000e+00</td>\n",
       "      <td>9.00000e-04</td>\n",
       "      <td>0.00000e+00</td>\n",
       "      <td>0.00000e+00</td>\n",
       "      <td>0.00000e+00</td>\n",
       "      <td>0.00000e+00</td>\n",
       "      <td>0.00000e+00</td>\n",
       "      <td>0.00000e+00</td>\n",
       "      <td>0.00000e+00</td>\n",
       "      <td>0.00000e+00</td>\n",
       "      <td>...</td>\n",
       "      <td>0.00000e+00</td>\n",
       "      <td>0.00000e+00</td>\n",
       "      <td>0.00000e+00</td>\n",
       "      <td>0.00000e+00</td>\n",
       "      <td>0.00000e+00</td>\n",
       "      <td>0.00000e+00</td>\n",
       "      <td>0.00000e+00</td>\n",
       "      <td>0.00000e+00</td>\n",
       "      <td>0.00000e+00</td>\n",
       "      <td>0.00000e+00</td>\n",
       "    </tr>\n",
       "    <tr>\n",
       "      <th>3.16228e-05</th>\n",
       "      <td>0.00000e+00</td>\n",
       "      <td>0.00000e+00</td>\n",
       "      <td>9.00000e-04</td>\n",
       "      <td>0.00000e+00</td>\n",
       "      <td>0.00000e+00</td>\n",
       "      <td>0.00000e+00</td>\n",
       "      <td>0.00000e+00</td>\n",
       "      <td>0.00000e+00</td>\n",
       "      <td>0.00000e+00</td>\n",
       "      <td>0.00000e+00</td>\n",
       "      <td>...</td>\n",
       "      <td>0.00000e+00</td>\n",
       "      <td>0.00000e+00</td>\n",
       "      <td>0.00000e+00</td>\n",
       "      <td>0.00000e+00</td>\n",
       "      <td>0.00000e+00</td>\n",
       "      <td>0.00000e+00</td>\n",
       "      <td>0.00000e+00</td>\n",
       "      <td>0.00000e+00</td>\n",
       "      <td>0.00000e+00</td>\n",
       "      <td>0.00000e+00</td>\n",
       "    </tr>\n",
       "    <tr>\n",
       "      <th>5.62341e-05</th>\n",
       "      <td>0.00000e+00</td>\n",
       "      <td>0.00000e+00</td>\n",
       "      <td>0.00000e+00</td>\n",
       "      <td>9.00000e-04</td>\n",
       "      <td>0.00000e+00</td>\n",
       "      <td>0.00000e+00</td>\n",
       "      <td>0.00000e+00</td>\n",
       "      <td>0.00000e+00</td>\n",
       "      <td>0.00000e+00</td>\n",
       "      <td>0.00000e+00</td>\n",
       "      <td>...</td>\n",
       "      <td>0.00000e+00</td>\n",
       "      <td>0.00000e+00</td>\n",
       "      <td>0.00000e+00</td>\n",
       "      <td>0.00000e+00</td>\n",
       "      <td>0.00000e+00</td>\n",
       "      <td>0.00000e+00</td>\n",
       "      <td>0.00000e+00</td>\n",
       "      <td>0.00000e+00</td>\n",
       "      <td>0.00000e+00</td>\n",
       "      <td>0.00000e+00</td>\n",
       "    </tr>\n",
       "    <tr>\n",
       "      <th>1.00000e-04</th>\n",
       "      <td>0.00000e+00</td>\n",
       "      <td>0.00000e+00</td>\n",
       "      <td>0.00000e+00</td>\n",
       "      <td>0.00000e+00</td>\n",
       "      <td>9.00000e-04</td>\n",
       "      <td>0.00000e+00</td>\n",
       "      <td>0.00000e+00</td>\n",
       "      <td>0.00000e+00</td>\n",
       "      <td>0.00000e+00</td>\n",
       "      <td>0.00000e+00</td>\n",
       "      <td>...</td>\n",
       "      <td>0.00000e+00</td>\n",
       "      <td>0.00000e+00</td>\n",
       "      <td>0.00000e+00</td>\n",
       "      <td>0.00000e+00</td>\n",
       "      <td>0.00000e+00</td>\n",
       "      <td>0.00000e+00</td>\n",
       "      <td>0.00000e+00</td>\n",
       "      <td>0.00000e+00</td>\n",
       "      <td>0.00000e+00</td>\n",
       "      <td>0.00000e+00</td>\n",
       "    </tr>\n",
       "  </tbody>\n",
       "</table>\n",
       "<p>5 rows × 49 columns</p>\n",
       "</div>"
      ],
      "text/plain": [
       "MAT                         9437                                      \\\n",
       "MT                           102                                       \n",
       "E                    1.00000e-05 1.77828e-05 3.16228e-05 5.62341e-05   \n",
       "MAT  MT  E                                                             \n",
       "9437 102 1.00000e-05 9.00000e-04 0.00000e+00 0.00000e+00 0.00000e+00   \n",
       "         1.77828e-05 0.00000e+00 9.00000e-04 0.00000e+00 0.00000e+00   \n",
       "         3.16228e-05 0.00000e+00 0.00000e+00 9.00000e-04 0.00000e+00   \n",
       "         5.62341e-05 0.00000e+00 0.00000e+00 0.00000e+00 9.00000e-04   \n",
       "         1.00000e-04 0.00000e+00 0.00000e+00 0.00000e+00 0.00000e+00   \n",
       "\n",
       "MAT                                                                   \\\n",
       "MT                                                                     \n",
       "E                    1.00000e-04 1.77828e-04 3.16228e-04 5.62341e-04   \n",
       "MAT  MT  E                                                             \n",
       "9437 102 1.00000e-05 0.00000e+00 0.00000e+00 0.00000e+00 0.00000e+00   \n",
       "         1.77828e-05 0.00000e+00 0.00000e+00 0.00000e+00 0.00000e+00   \n",
       "         3.16228e-05 0.00000e+00 0.00000e+00 0.00000e+00 0.00000e+00   \n",
       "         5.62341e-05 0.00000e+00 0.00000e+00 0.00000e+00 0.00000e+00   \n",
       "         1.00000e-04 9.00000e-04 0.00000e+00 0.00000e+00 0.00000e+00   \n",
       "\n",
       "MAT                                           ...                          \\\n",
       "MT                                            ...                           \n",
       "E                    1.00000e-03 1.77828e-03  ... 5.62341e+04 1.00000e+05   \n",
       "MAT  MT  E                                    ...                           \n",
       "9437 102 1.00000e-05 0.00000e+00 0.00000e+00  ... 0.00000e+00 0.00000e+00   \n",
       "         1.77828e-05 0.00000e+00 0.00000e+00  ... 0.00000e+00 0.00000e+00   \n",
       "         3.16228e-05 0.00000e+00 0.00000e+00  ... 0.00000e+00 0.00000e+00   \n",
       "         5.62341e-05 0.00000e+00 0.00000e+00  ... 0.00000e+00 0.00000e+00   \n",
       "         1.00000e-04 0.00000e+00 0.00000e+00  ... 0.00000e+00 0.00000e+00   \n",
       "\n",
       "MAT                                                                   \\\n",
       "MT                                                                     \n",
       "E                    1.77828e+05 3.16228e+05 5.62341e+05 1.00000e+06   \n",
       "MAT  MT  E                                                             \n",
       "9437 102 1.00000e-05 0.00000e+00 0.00000e+00 0.00000e+00 0.00000e+00   \n",
       "         1.77828e-05 0.00000e+00 0.00000e+00 0.00000e+00 0.00000e+00   \n",
       "         3.16228e-05 0.00000e+00 0.00000e+00 0.00000e+00 0.00000e+00   \n",
       "         5.62341e-05 0.00000e+00 0.00000e+00 0.00000e+00 0.00000e+00   \n",
       "         1.00000e-04 0.00000e+00 0.00000e+00 0.00000e+00 0.00000e+00   \n",
       "\n",
       "MAT                                                                   \n",
       "MT                                                                    \n",
       "E                    1.77828e+06 3.16228e+06 5.62341e+06 1.00000e+07  \n",
       "MAT  MT  E                                                            \n",
       "9437 102 1.00000e-05 0.00000e+00 0.00000e+00 0.00000e+00 0.00000e+00  \n",
       "         1.77828e-05 0.00000e+00 0.00000e+00 0.00000e+00 0.00000e+00  \n",
       "         3.16228e-05 0.00000e+00 0.00000e+00 0.00000e+00 0.00000e+00  \n",
       "         5.62341e-05 0.00000e+00 0.00000e+00 0.00000e+00 0.00000e+00  \n",
       "         1.00000e-04 0.00000e+00 0.00000e+00 0.00000e+00 0.00000e+00  \n",
       "\n",
       "[5 rows x 49 columns]"
      ]
     },
     "execution_count": 5,
     "metadata": {},
     "output_type": "execute_result"
    }
   ],
   "source": [
    "std = 3 / 100\n",
    "data = np.eye(index.size) * std**2 \n",
    "cov = sandy.CategoryCov(data, index=index, columns=index)\n",
    "cov.data.head()"
   ]
  },
  {
   "cell_type": "markdown",
   "metadata": {},
   "source": [
    "> By using `CategoryCov` instead of `EnergyCov` we accept any sort of index."
   ]
  },
  {
   "cell_type": "markdown",
   "metadata": {},
   "source": [
    "The covariance matrix can be written to a `.csv` file for further use."
   ]
  },
  {
   "cell_type": "code",
   "execution_count": 6,
   "metadata": {
    "scrolled": false
   },
   "outputs": [
    {
     "ename": "TypeError",
     "evalue": "'classmethod' object is not callable",
     "output_type": "error",
     "traceback": [
      "\u001b[1;31m---------------------------------------------------------------------------\u001b[0m",
      "\u001b[1;31mTypeError\u001b[0m                                 Traceback (most recent call last)",
      "\u001b[1;32m<ipython-input-6-ea1935798bb7>\u001b[0m in \u001b[0;36m<module>\u001b[1;34m()\u001b[0m\n\u001b[0;32m      3\u001b[0m     \u001b[0mcov\u001b[0m\u001b[1;33m.\u001b[0m\u001b[0mdata\u001b[0m\u001b[1;33m.\u001b[0m\u001b[0mto_csv\u001b[0m\u001b[1;33m(\u001b[0m\u001b[0mcsvfile\u001b[0m\u001b[1;33m)\u001b[0m\u001b[1;33m\u001b[0m\u001b[1;33m\u001b[0m\u001b[0m\n\u001b[0;32m      4\u001b[0m \u001b[1;33m\u001b[0m\u001b[0m\n\u001b[1;32m----> 5\u001b[1;33m     \u001b[0mdf\u001b[0m \u001b[1;33m=\u001b[0m \u001b[0msandy\u001b[0m\u001b[1;33m.\u001b[0m\u001b[0mCategoryCov\u001b[0m\u001b[1;33m.\u001b[0m\u001b[0mfrom_csv\u001b[0m\u001b[1;33m(\u001b[0m\u001b[0mcsvfile\u001b[0m\u001b[1;33m,\u001b[0m \u001b[0mindex_col\u001b[0m\u001b[1;33m=\u001b[0m\u001b[1;33m[\u001b[0m\u001b[1;36m0\u001b[0m\u001b[1;33m,\u001b[0m \u001b[1;36m1\u001b[0m\u001b[1;33m,\u001b[0m \u001b[1;36m2\u001b[0m\u001b[1;33m]\u001b[0m\u001b[1;33m,\u001b[0m \u001b[0mheader\u001b[0m\u001b[1;33m=\u001b[0m\u001b[1;33m[\u001b[0m\u001b[1;36m0\u001b[0m\u001b[1;33m,\u001b[0m \u001b[1;36m1\u001b[0m\u001b[1;33m,\u001b[0m \u001b[1;36m2\u001b[0m\u001b[1;33m]\u001b[0m\u001b[1;33m)\u001b[0m\u001b[1;33m.\u001b[0m\u001b[0mdata\u001b[0m\u001b[1;33m.\u001b[0m\u001b[0mhead\u001b[0m\u001b[1;33m(\u001b[0m\u001b[1;33m)\u001b[0m\u001b[1;33m\u001b[0m\u001b[1;33m\u001b[0m\u001b[0m\n\u001b[0m\u001b[0;32m      6\u001b[0m \u001b[0mdf\u001b[0m\u001b[1;33m\u001b[0m\u001b[1;33m\u001b[0m\u001b[0m\n",
      "\u001b[1;32mC:\\Users\\lfiorito\\Desktop\\sandy\\sandy\\core\\cov.py\u001b[0m in \u001b[0;36minner\u001b[1;34m(*args, **kwargs)\u001b[0m\n\u001b[0;32m     41\u001b[0m             \u001b[1;32melse\u001b[0m\u001b[1;33m:\u001b[0m\u001b[1;33m\u001b[0m\u001b[1;33m\u001b[0m\u001b[0m\n\u001b[0;32m     42\u001b[0m                 \u001b[1;32mdel\u001b[0m \u001b[0mkw\u001b[0m\u001b[1;33m[\u001b[0m\u001b[0mkey\u001b[0m\u001b[1;33m]\u001b[0m\u001b[1;33m\u001b[0m\u001b[1;33m\u001b[0m\u001b[0m\n\u001b[1;32m---> 43\u001b[1;33m         \u001b[0mout\u001b[0m \u001b[1;33m=\u001b[0m \u001b[0mfunc\u001b[0m\u001b[1;33m(\u001b[0m\u001b[1;33m*\u001b[0m\u001b[0margs\u001b[0m\u001b[1;33m,\u001b[0m \u001b[1;33m**\u001b[0m\u001b[0mkw\u001b[0m\u001b[1;33m)\u001b[0m\u001b[1;33m\u001b[0m\u001b[1;33m\u001b[0m\u001b[0m\n\u001b[0m\u001b[0;32m     44\u001b[0m         \u001b[1;32mreturn\u001b[0m \u001b[0mout\u001b[0m\u001b[1;33m\u001b[0m\u001b[1;33m\u001b[0m\u001b[0m\n\u001b[0;32m     45\u001b[0m     \u001b[1;32mreturn\u001b[0m \u001b[0minner\u001b[0m\u001b[1;33m\u001b[0m\u001b[1;33m\u001b[0m\u001b[0m\n",
      "\u001b[1;31mTypeError\u001b[0m: 'classmethod' object is not callable"
     ]
    }
   ],
   "source": [
    "with tempfile.TemporaryDirectory() as td:\n",
    "    csvfile = os.path.join(td, \"custom_cov.csv\")\n",
    "    cov.data.to_csv(csvfile)\n",
    "    \n",
    "    df = sandy.CategoryCov.from_csv(csvfile, index_col=[0, 1, 2], header=[0, 1, 2]).data.head()\n",
    "df"
   ]
  },
  {
   "cell_type": "markdown",
   "metadata": {},
   "source": [
    "To reload the matrix from csv, make sure to specify `index_col` and `header` to account for the multiindex."
   ]
  },
  {
   "cell_type": "markdown",
   "metadata": {},
   "source": [
    "The same can be done also when there is more than one reaction or nuclide."
   ]
  },
  {
   "cell_type": "code",
   "execution_count": null,
   "metadata": {},
   "outputs": [],
   "source": [
    "mat = 9437\n",
    "mts = [18, 102]\n",
    "index = pd.MultiIndex.from_product(([mat], mts, egrid), names=[\"MAT\", \"MT\", \"E\"])"
   ]
  },
  {
   "cell_type": "code",
   "execution_count": null,
   "metadata": {},
   "outputs": [],
   "source": [
    "std = 3 / 100\n",
    "data = np.eye(index.size) * std**2 \n",
    "cov = sandy.CategoryCov(data, index=index, columns=index)\n",
    "cov.data.head()"
   ]
  }
 ],
 "metadata": {
  "kernelspec": {
   "display_name": "Python (aleph-test)",
   "language": "python",
   "name": "aleph-test"
  },
  "language_info": {
   "codemirror_mode": {
    "name": "ipython",
    "version": 3
   },
   "file_extension": ".py",
   "mimetype": "text/x-python",
   "name": "python",
   "nbconvert_exporter": "python",
   "pygments_lexer": "ipython3",
   "version": "3.7.8"
  }
 },
 "nbformat": 4,
 "nbformat_minor": 4
}
