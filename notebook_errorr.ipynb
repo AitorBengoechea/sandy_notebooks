{
 "cells": [
  {
   "cell_type": "markdown",
   "metadata": {},
   "source": [
    "# Interface with a ERRORR file"
   ]
  },
  {
   "cell_type": "code",
   "execution_count": 1,
   "metadata": {},
   "outputs": [],
   "source": [
    "%%capture --no-stdout\n",
    "import sandy"
   ]
  },
  {
   "cell_type": "code",
   "execution_count": 2,
   "metadata": {},
   "outputs": [],
   "source": [
    "import os\n",
    "import numpy as np"
   ]
  },
  {
   "cell_type": "code",
   "execution_count": 3,
   "metadata": {},
   "outputs": [],
   "source": [
    "import matplotlib.pyplot as plt\n",
    "import seaborn as sns\n",
    "\n",
    "sns.set_style(\"whitegrid\")"
   ]
  },
  {
   "cell_type": "markdown",
   "metadata": {},
   "source": [
    "```\n",
    "moder\n",
    "20 -21 /\n",
    "reconr\n",
    "-21 -22 /\n",
    "'sandy runs njoy'/\n",
    "9437 0 0 /\n",
    "0.001 0. /\n",
    "0/\n",
    "broadr\n",
    "-21 -22 -23 /\n",
    "9437 1 0 0 0. /\n",
    "0.001 /\n",
    "900.0 /\n",
    "0 /\n",
    "thermr\n",
    "0 -23 -24 /\n",
    "0 9437 20 1 1 0 0 1 221 0 /\n",
    "900.0 /\n",
    "0.001 10 /\n",
    "moder\n",
    "-24 30 /\n",
    "groupr\n",
    "-21 -24 0 91 /\n",
    "9437 9 0 6 1 1 1 1 /\n",
    "'test'\n",
    "900. /\n",
    "1.0e10 /\n",
    "3 /\n",
    "3 456 'nu' /\n",
    "0 /\n",
    "0 /\n",
    "errorr\n",
    "-21 0 91 33 0 /\n",
    "9437 9 6 0 1 /\n",
    "0 900.0 /\n",
    "0 33 /\n",
    "errorr\n",
    "-21 0 91 31 0 0 /\n",
    "9437 9 6 1 1 /\n",
    "1 900./\n",
    "0 31 /\n",
    "```"
   ]
  },
  {
   "cell_type": "code",
   "execution_count": 4,
   "metadata": {},
   "outputs": [],
   "source": [
    "folder = \"notebook_errorr_data\""
   ]
  },
  {
   "cell_type": "code",
   "execution_count": 5,
   "metadata": {},
   "outputs": [],
   "source": [
    "filename = \"tape33\"\n",
    "file = os.path.join(os.getcwd(), folder, filename)\n",
    "tape = sandy.Errorr.from_file(file)"
   ]
  },
  {
   "cell_type": "code",
   "execution_count": 6,
   "metadata": {},
   "outputs": [
    {
     "data": {
      "text/plain": [
       "MAT   MF  MT \n",
       "9437  1   451     9.423900+4 2.369986+2          6          0  ...\n",
       "      3   18      9.423900+4 0.000000+0          0          0  ...\n",
       "          102     9.423900+4 0.000000+0          0          0  ...\n",
       "      33  18      9.423900+4 2.369986+2          0          0  ...\n",
       "          102     9.423900+4 2.369986+2          0          0  ...\n",
       "dtype: object"
      ]
     },
     "execution_count": 6,
     "metadata": {},
     "output_type": "execute_result"
    }
   ],
   "source": [
    "tape"
   ]
  },
  {
   "cell_type": "code",
   "execution_count": 7,
   "metadata": {},
   "outputs": [
    {
     "data": {
      "text/plain": [
       "{'MAT': 9437,\n",
       " 'MF': 1,\n",
       " 'MT': 451,\n",
       " 'ZA': 94239.0,\n",
       " 'AWR': 236.9986,\n",
       " 'LRP': -11,\n",
       " 'EG': array([1.00000e-05, 5.00000e-03, 1.00000e-02, 1.50000e-02, 2.00000e-02,\n",
       "        2.50000e-02, 3.00000e-02, 3.50000e-02, 4.20000e-02, 5.00000e-02,\n",
       "        5.80000e-02, 6.70000e-02, 8.00000e-02, 1.00000e-01, 1.40000e-01,\n",
       "        1.80000e-01, 2.20000e-01, 2.50000e-01, 2.80000e-01, 3.00000e-01,\n",
       "        3.20000e-01, 3.50000e-01, 4.00000e-01, 5.00000e-01, 6.25000e-01,\n",
       "        7.80000e-01, 8.50000e-01, 9.10000e-01, 9.50000e-01, 9.72000e-01,\n",
       "        9.96000e-01, 1.02000e+00, 1.04500e+00, 1.07100e+00, 1.09700e+00,\n",
       "        1.12300e+00, 1.15000e+00, 1.30000e+00, 1.50000e+00, 2.10000e+00,\n",
       "        2.60000e+00, 3.30000e+00, 4.00000e+00, 9.87700e+00, 1.59680e+01,\n",
       "        2.77000e+01, 4.80520e+01, 7.55010e+01, 1.48728e+02, 3.67262e+02,\n",
       "        9.06898e+02, 1.42510e+03, 2.23945e+03, 3.51910e+03, 5.53000e+03,\n",
       "        9.11800e+03, 1.50300e+04, 2.47800e+04, 4.08500e+04, 6.73400e+04,\n",
       "        1.11000e+05, 1.83000e+05, 3.02500e+05, 5.00000e+05, 8.21000e+05,\n",
       "        1.35300e+06, 2.23100e+06, 3.67900e+06, 6.06550e+06, 1.00000e+07])}"
      ]
     },
     "execution_count": 7,
     "metadata": {},
     "output_type": "execute_result"
    }
   ],
   "source": [
    "mf1 = sandy.errorr.read_mf1(tape, 9437)\n",
    "mf1"
   ]
  },
  {
   "cell_type": "code",
   "execution_count": 8,
   "metadata": {},
   "outputs": [],
   "source": [
    "xs_fiss = tape.get_xs(9437, 18)\n",
    "xs_capture = tape.get_xs(9437, 102)"
   ]
  },
  {
   "cell_type": "code",
   "execution_count": 9,
   "metadata": {},
   "outputs": [
    {
     "data": {
      "image/png": "[encoded data removed]",
      "text/plain": [
       "<Figure size 576x288 with 1 Axes>"
      ]
     },
     "metadata": {},
     "output_type": "display_data"
    }
   ],
   "source": [
    "fig, ax = plt.subplots(figsize=(8, 4))\n",
    "\n",
    "ax.plot(xs_fiss.index.left, xs_fiss.values, drawstyle='steps-pre', color=\"dodgerblue\", label=\"$(n,f)$\")\n",
    "ax.plot(xs_capture.index.left, xs_capture.values, drawstyle='steps-pre', color=\"tomato\", label=\"$(n,\\\\gamma)$\")\n",
    "\n",
    "ax.set_xscale(\"log\")\n",
    "ax.set_yscale(\"log\")\n",
    "\n",
    "ax.set_xlim([1e-5, 6e6])\n",
    "ax.set_ylim([1e-3, 1e4])\n",
    "\n",
    "ax.set_xlabel(\"energy / $eV$\", fontsize=\"large\")\n",
    "ax.set_ylabel(\"cross section / $b$\", fontsize=\"large\")\n",
    "ax.legend(loc=1, prop={\"size\": \"large\"})\n",
    "\n",
    "plt.tight_layout();"
   ]
  },
  {
   "cell_type": "code",
   "execution_count": 10,
   "metadata": {},
   "outputs": [
    {
     "data": {
      "text/plain": [
       "{'MAT': 9437,\n",
       " 'MF': 33,\n",
       " 'MT': 18,\n",
       " 'ZA': 94239.0,\n",
       " 'AWR': 236.9986,\n",
       " 'COVS': {18: array([[7.439680e-05, 7.439680e-05, 7.439680e-05, ..., 0.000000e+00,\n",
       "          0.000000e+00, 0.000000e+00],\n",
       "         [7.439680e-05, 7.439680e-05, 7.439680e-05, ..., 0.000000e+00,\n",
       "          0.000000e+00, 0.000000e+00],\n",
       "         [7.439680e-05, 7.439680e-05, 7.439680e-05, ..., 0.000000e+00,\n",
       "          0.000000e+00, 0.000000e+00],\n",
       "         ...,\n",
       "         [0.000000e+00, 0.000000e+00, 0.000000e+00, ..., 1.857652e-05,\n",
       "          1.762574e-05, 2.061469e-05],\n",
       "         [0.000000e+00, 0.000000e+00, 0.000000e+00, ..., 1.762574e-05,\n",
       "          3.641884e-05, 2.939833e-05],\n",
       "         [0.000000e+00, 0.000000e+00, 0.000000e+00, ..., 2.061469e-05,\n",
       "          2.939833e-05, 3.454560e-05]]),\n",
       "  102: array([[ 1.166280e-04,  1.166280e-04,  1.166280e-04, ...,  0.000000e+00,\n",
       "           0.000000e+00,  0.000000e+00],\n",
       "         [ 1.166280e-04,  1.166280e-04,  1.166280e-04, ...,  0.000000e+00,\n",
       "           0.000000e+00,  0.000000e+00],\n",
       "         [ 1.166280e-04,  1.166280e-04,  1.166280e-04, ...,  0.000000e+00,\n",
       "           0.000000e+00,  0.000000e+00],\n",
       "         ...,\n",
       "         [ 0.000000e+00,  0.000000e+00,  0.000000e+00, ..., -1.990411e-04,\n",
       "          -7.277894e-05, -3.218250e-05],\n",
       "         [ 0.000000e+00,  0.000000e+00,  0.000000e+00, ..., -7.283559e-04,\n",
       "          -8.392276e-04, -1.593797e-04],\n",
       "         [ 0.000000e+00,  0.000000e+00,  0.000000e+00, ..., -4.717350e-04,\n",
       "          -4.488602e-04, -9.540200e-05]])}}"
      ]
     },
     "execution_count": 10,
     "metadata": {},
     "output_type": "execute_result"
    }
   ],
   "source": [
    "mf33 = sandy.errorr.read_mf33(tape, 9437, 18)\n",
    "mf33"
   ]
  },
  {
   "cell_type": "code",
   "execution_count": 11,
   "metadata": {},
   "outputs": [],
   "source": [
    "filename = \"tape31\"\n",
    "file = os.path.join(os.getcwd(), folder, filename)\n",
    "tape31 = sandy.Errorr.from_file(file)"
   ]
  },
  {
   "cell_type": "code",
   "execution_count": 12,
   "metadata": {},
   "outputs": [],
   "source": [
    "nubar = tape31.get_xs(9437, 456)\n",
    "mf31 = sandy.errorr.read_mf33(tape31, 9437, 456)"
   ]
  },
  {
   "cell_type": "code",
   "execution_count": 13,
   "metadata": {},
   "outputs": [
    {
     "data": {
      "image/png": "[encoded data removed]",
      "text/plain": [
       "<Figure size 576x288 with 1 Axes>"
      ]
     },
     "metadata": {},
     "output_type": "display_data"
    }
   ],
   "source": [
    "fig, ax = plt.subplots(figsize=(8, 4))\n",
    "\n",
    "ax.plot(nubar.index.left, nubar.values, drawstyle='steps-pre', color=\"orange\", label=\"$\\\\overline{\\\\nu}_p$\")\n",
    "\n",
    "ax.set_xscale(\"log\")\n",
    "\n",
    "ax.set_xlim([1e-5, 6e6])\n",
    "ax.set_ylim([2.8, 4.2])\n",
    "\n",
    "ax.set_xlabel(\"energy / $eV$\", fontsize=\"large\")\n",
    "ax.set_ylabel(\"nubar\", fontsize=\"large\")\n",
    "ax.legend(loc=2, prop={\"size\": \"large\"})\n",
    "\n",
    "plt.tight_layout();"
   ]
  }
 ],
 "metadata": {
  "kernelspec": {
   "display_name": "Python3 (sandy-devel)",
   "language": "python",
   "name": "sandy-devel"
  },
  "language_info": {
   "codemirror_mode": {
    "name": "ipython",
    "version": 3
   },
   "file_extension": ".py",
   "mimetype": "text/x-python",
   "name": "python",
   "nbconvert_exporter": "python",
   "pygments_lexer": "ipython3",
   "version": "3.7.10"
  }
 },
 "nbformat": 4,
 "nbformat_minor": 4
}
