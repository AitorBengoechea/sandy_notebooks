{
 "cells": [
  {
   "cell_type": "markdown",
   "metadata": {},
   "source": [
    "# Read and process a cross section file in *ALEPH* format"
   ]
  },
  {
   "cell_type": "code",
   "execution_count": 1,
   "metadata": {},
   "outputs": [],
   "source": [
    "import os\n",
    "from tempfile import TemporaryDirectory\n",
    "import numpy as np"
   ]
  },
  {
   "cell_type": "code",
   "execution_count": 2,
   "metadata": {},
   "outputs": [],
   "source": [
    "%%capture --no-stdout\n",
    "import sandy\n",
    "from sandy import aleph2 as al2"
   ]
  },
  {
   "cell_type": "markdown",
   "metadata": {},
   "source": [
    "This is an example of what one can find in a ALEPH-2 cross section file tabulated in the so-called *aleph* format."
   ]
  },
  {
   "cell_type": "code",
   "execution_count": 3,
   "metadata": {},
   "outputs": [],
   "source": [
    "string = \"\"\"              952410                   4                   4  200.00000000000000\n",
    "  5.000000000000E+00\n",
    "  1.000000000000E-11  1.000000000000E-05  1.000000000000E-01  1.000000000000E+01\n",
    "              952420                   0  5.000000000000E+00\n",
    "  1.0000000000000000  2.0000000000000000  3.0000000000000000  4.0000000000000000\n",
    "                  18                   0  2.000000000000E+02\n",
    "  1.0000000000000000  2.0000000000000000  3.0000000000000000  4.0000000000000000\n",
    "              942410                   2  5.000000000000E+00\n",
    "  6.0000000000000000  5.0000000000000000\n",
    "               10010                   2  7.000000000000E-01\n",
    "  6.0000000000000000  5.0000000000000000\n",
    "\"\"\""
   ]
  },
  {
   "cell_type": "code",
   "execution_count": 4,
   "metadata": {},
   "outputs": [
    {
     "data": {
      "text/plain": [
       "ALEPH file for nuclide: 952410"
      ]
     },
     "execution_count": 4,
     "metadata": {},
     "output_type": "execute_result"
    }
   ],
   "source": [
    "xsfile = al2.AlephFile.from_text(string)\n",
    "xsfile"
   ]
  },
  {
   "cell_type": "code",
   "execution_count": 5,
   "metadata": {},
   "outputs": [
    {
     "data": {
      "text/plain": [
       "{'nuclide': 952410,\n",
       " 'energies': array([1.e-11, 1.e-05, 1.e-01, 1.e+01]),\n",
       " 'fission_qvalue': 200.0,\n",
       " 'capture_qvalue': 5.0,\n",
       " 'reactions': {952420: {'qval': 5.0, 'xs': array([1., 2., 3., 4.])},\n",
       "  18: {'qval': 200.0, 'xs': array([1., 2., 3., 4.])},\n",
       "  942410: {'qval': 5.0, 'xs': array([6., 5.])},\n",
       "  10010: {'qval': 0.7, 'xs': array([6., 5.])},\n",
       "  4581: {'qval': 0.0, 'xs': array([200., 400., 600., 800.])},\n",
       "  4582: {'qval': 0.0, 'xs': array([ 5., 10., 15., 20.])}}}"
      ]
     },
     "execution_count": 5,
     "metadata": {},
     "output_type": "execute_result"
    }
   ],
   "source": [
    "xsfile.data"
   ]
  },
  {
   "cell_type": "markdown",
   "metadata": {},
   "source": [
    "Add a fake threshold reaction. "
   ]
  },
  {
   "cell_type": "code",
   "execution_count": 6,
   "metadata": {},
   "outputs": [],
   "source": [
    "ID = 100\n",
    "new = [3, 4, 5]\n",
    "xsfile_upd = xsfile.add_reaction(ID, new)"
   ]
  },
  {
   "cell_type": "code",
   "execution_count": 7,
   "metadata": {},
   "outputs": [
    {
     "name": "stdout",
     "output_type": "stream",
     "text": [
      "              952410                   5                   4  2.000000000000E+02\n",
      "  5.000000000000E+00                                                            \n",
      "  1.000000000000E-11  1.000000000000E-05  1.000000000000E-01  1.000000000000E+01\n",
      "                  18                   0  2.000000000000E+02                    \n",
      "  1.000000000000E+00  2.000000000000E+00  3.000000000000E+00  4.000000000000E+00\n",
      "                 100                   1  0.000000000000E+00                    \n",
      "  3.000000000000E+00  4.000000000000E+00  5.000000000000E+00                    \n",
      "               10010                   2  7.000000000000E-01                    \n",
      "  6.000000000000E+00  5.000000000000E+00                                        \n",
      "              942410                   2  5.000000000000E+00                    \n",
      "  6.000000000000E+00  5.000000000000E+00                                        \n",
      "              952420                   0  5.000000000000E+00                    \n",
      "  1.000000000000E+00  2.000000000000E+00  3.000000000000E+00  4.000000000000E+00\n"
     ]
    }
   ],
   "source": [
    "print(xsfile_upd.to_string())"
   ]
  },
  {
   "cell_type": "markdown",
   "metadata": {},
   "source": [
    "## From *aleph* format to HDF5"
   ]
  },
  {
   "cell_type": "markdown",
   "metadata": {},
   "source": [
    "Save cross section data into HDF5 file."
   ]
  },
  {
   "cell_type": "code",
   "execution_count": 8,
   "metadata": {},
   "outputs": [
    {
     "name": "stdout",
     "output_type": "stream",
     "text": [
      "Adding 'test_library/xs/652.7/952410' to file'C:\\Users\\lfiorito\\sandy_notebooks\\tmpjou9qnd2\\test.h5'...\n"
     ]
    }
   ],
   "source": [
    "filename = \"test.h5\"\n",
    "library = \"test_library\"\n",
    "temperature = 652.666\n",
    "\n",
    "path = os.getcwd()\n",
    "with TemporaryDirectory(dir=path) as tmpdirname:\n",
    "    h5file = os.path.join(tmpdirname, filename)\n",
    "    xsfile.to_hdf5(h5file, library=library, temperature=temperature)"
   ]
  },
  {
   "cell_type": "markdown",
   "metadata": {},
   "source": [
    "Cross section data are appended to a HDF5 file in a ['fixed' format](https://pandas.pydata.org/pandas-docs/stable/reference/api/pandas.DataFrame.to_hdf.html) and in a namespace defined by four keys:\n",
    " - library name: all lowercase, regex `(?P<version>[a-z]+)_(?P<version>[0-9]+)`;\n",
    " - data type: key `xs` always used for cross section data in `aleph` format;\n",
    " - temperature: temperature in kelvin written as `{:f.1}`;\n",
    " - ZAM: nuclide identifier of charge, mass and isomeric number."
   ]
  },
  {
   "cell_type": "markdown",
   "metadata": {},
   "source": [
    "## From aleph format to a `pandas` dataframe."
   ]
  },
  {
   "cell_type": "code",
   "execution_count": 9,
   "metadata": {},
   "outputs": [
    {
     "data": {
      "text/html": [
       "<div>\n",
       "<style scoped>\n",
       "    .dataframe tbody tr th:only-of-type {\n",
       "        vertical-align: middle;\n",
       "    }\n",
       "\n",
       "    .dataframe tbody tr th {\n",
       "        vertical-align: top;\n",
       "    }\n",
       "\n",
       "    .dataframe thead tr th {\n",
       "        text-align: left;\n",
       "    }\n",
       "\n",
       "    .dataframe thead tr:last-of-type th {\n",
       "        text-align: right;\n",
       "    }\n",
       "</style>\n",
       "<table border=\"1\" class=\"dataframe\">\n",
       "  <thead>\n",
       "    <tr>\n",
       "      <th>PARENT</th>\n",
       "      <th colspan=\"6\" halign=\"left\">952410</th>\n",
       "    </tr>\n",
       "    <tr>\n",
       "      <th>DAUGHTER</th>\n",
       "      <th>952420</th>\n",
       "      <th>18</th>\n",
       "      <th>942410</th>\n",
       "      <th>10010</th>\n",
       "      <th>4581</th>\n",
       "      <th>4582</th>\n",
       "    </tr>\n",
       "    <tr>\n",
       "      <th>E</th>\n",
       "      <th></th>\n",
       "      <th></th>\n",
       "      <th></th>\n",
       "      <th></th>\n",
       "      <th></th>\n",
       "      <th></th>\n",
       "    </tr>\n",
       "  </thead>\n",
       "  <tbody>\n",
       "    <tr>\n",
       "      <th>1.00000e-11</th>\n",
       "      <td>1.00000e+00</td>\n",
       "      <td>1.00000e+00</td>\n",
       "      <td>0.00000e+00</td>\n",
       "      <td>0.00000e+00</td>\n",
       "      <td>2.00000e+02</td>\n",
       "      <td>5.00000e+00</td>\n",
       "    </tr>\n",
       "    <tr>\n",
       "      <th>1.00000e-05</th>\n",
       "      <td>2.00000e+00</td>\n",
       "      <td>2.00000e+00</td>\n",
       "      <td>0.00000e+00</td>\n",
       "      <td>0.00000e+00</td>\n",
       "      <td>4.00000e+02</td>\n",
       "      <td>1.00000e+01</td>\n",
       "    </tr>\n",
       "    <tr>\n",
       "      <th>1.00000e-01</th>\n",
       "      <td>3.00000e+00</td>\n",
       "      <td>3.00000e+00</td>\n",
       "      <td>6.00000e+00</td>\n",
       "      <td>6.00000e+00</td>\n",
       "      <td>6.00000e+02</td>\n",
       "      <td>1.50000e+01</td>\n",
       "    </tr>\n",
       "    <tr>\n",
       "      <th>1.00000e+01</th>\n",
       "      <td>4.00000e+00</td>\n",
       "      <td>4.00000e+00</td>\n",
       "      <td>5.00000e+00</td>\n",
       "      <td>5.00000e+00</td>\n",
       "      <td>8.00000e+02</td>\n",
       "      <td>2.00000e+01</td>\n",
       "    </tr>\n",
       "  </tbody>\n",
       "</table>\n",
       "</div>"
      ],
      "text/plain": [
       "PARENT           952410                                                  \\\n",
       "DAUGHTER         952420      18          942410      10010       4581     \n",
       "E                                                                         \n",
       "1.00000e-11 1.00000e+00 1.00000e+00 0.00000e+00 0.00000e+00 2.00000e+02   \n",
       "1.00000e-05 2.00000e+00 2.00000e+00 0.00000e+00 0.00000e+00 4.00000e+02   \n",
       "1.00000e-01 3.00000e+00 3.00000e+00 6.00000e+00 6.00000e+00 6.00000e+02   \n",
       "1.00000e+01 4.00000e+00 4.00000e+00 5.00000e+00 5.00000e+00 8.00000e+02   \n",
       "\n",
       "PARENT                   \n",
       "DAUGHTER         4582    \n",
       "E                        \n",
       "1.00000e-11 5.00000e+00  \n",
       "1.00000e-05 1.00000e+01  \n",
       "1.00000e-01 1.50000e+01  \n",
       "1.00000e+01 2.00000e+01  "
      ]
     },
     "execution_count": 9,
     "metadata": {},
     "output_type": "execute_result"
    }
   ],
   "source": [
    "df = xsfile.to_dataframe()\n",
    "df"
   ]
  },
  {
   "cell_type": "code",
   "execution_count": 10,
   "metadata": {},
   "outputs": [
    {
     "data": {
      "text/plain": [
       "MAT              952410                                                  \\\n",
       "MT               952420      18          942410      10010       4581     \n",
       "E                                                                         \n",
       "1.00000e-11 1.00000e+00 1.00000e+00 0.00000e+00 0.00000e+00 2.00000e+02   \n",
       "1.00000e-05 2.00000e+00 2.00000e+00 0.00000e+00 0.00000e+00 4.00000e+02   \n",
       "1.00000e-01 3.00000e+00 3.00000e+00 6.00000e+00 6.00000e+00 6.00000e+02   \n",
       "1.00000e+01 4.00000e+00 4.00000e+00 5.00000e+00 5.00000e+00 8.00000e+02   \n",
       "\n",
       "MAT                      \n",
       "MT               4582    \n",
       "E                        \n",
       "1.00000e-11 5.00000e+00  \n",
       "1.00000e-05 1.00000e+01  \n",
       "1.00000e-01 1.50000e+01  \n",
       "1.00000e+01 2.00000e+01  "
      ]
     },
     "execution_count": 10,
     "metadata": {},
     "output_type": "execute_result"
    }
   ],
   "source": [
    "xs = sandy.Xs(df)\n",
    "xs"
   ]
  }
 ],
 "metadata": {
  "kernelspec": {
   "display_name": "Python (aleph-test)",
   "language": "python",
   "name": "aleph-test"
  },
  "language_info": {
   "codemirror_mode": {
    "name": "ipython",
    "version": 3
   },
   "file_extension": ".py",
   "mimetype": "text/x-python",
   "name": "python",
   "nbconvert_exporter": "python",
   "pygments_lexer": "ipython3",
   "version": "3.7.8"
  }
 },
 "nbformat": 4,
 "nbformat_minor": 4
}
