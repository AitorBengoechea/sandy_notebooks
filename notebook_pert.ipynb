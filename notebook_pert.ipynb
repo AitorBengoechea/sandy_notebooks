{
 "cells": [
  {
   "cell_type": "markdown",
   "metadata": {},
   "source": [
    "# Processing perturbation coefficients using `sandy`"
   ]
  },
  {
   "cell_type": "code",
   "execution_count": 1,
   "metadata": {},
   "outputs": [],
   "source": [
    "import sandy\n",
    "import pandas as pd\n",
    "import numpy as np"
   ]
  },
  {
   "cell_type": "code",
   "execution_count": 2,
   "metadata": {},
   "outputs": [],
   "source": [
    "import matplotlib.pyplot as plt\n",
    "import seaborn as sns\n",
    "\n",
    "%matplotlib inline"
   ]
  },
  {
   "cell_type": "markdown",
   "metadata": {},
   "source": [
    "We define a multigroup perturbation as a series of tabulated pairs `(energy value, perturbation coefficient)`, \n",
    "where the energy values are the right bounds of the energy bins that define the perturbation coefficient as a \n",
    "step function."
   ]
  },
  {
   "cell_type": "code",
   "execution_count": 3,
   "metadata": {},
   "outputs": [
    {
     "data": {
      "text/plain": [
       "ENERGY\n",
       "(0.0, 1e-05]               1.00000e+00\n",
       "(1e-05, 0.0001]            1.40000e+00\n",
       "(0.0001, 0.001]            1.30000e+00\n",
       "(0.001, 0.01]              1.20000e+00\n",
       "(0.01, 0.1]                1.10000e+00\n",
       "(0.1, 1.0]                 6.00000e-01\n",
       "(1.0, 100000.0]            1.80000e+00\n",
       "(100000.0, 1000000.0]      1.90000e+00\n",
       "(1000000.0, 10000000.0]    1.90000e+00\n",
       "(10000000.0, 20000000.0]   1.60000e+00\n",
       "dtype: float64"
      ]
     },
     "execution_count": 3,
     "metadata": {},
     "output_type": "execute_result"
    }
   ],
   "source": [
    "grid   = [1e-5, 1e-4, 1e-3, 1e-2, 1e-1, 1e0, 1e5, 1e6, 1e7, 2e7] # right bounds of each energy interval\n",
    "values = [   1,  1.4,  1.3,  1.2,  1.1, 0.6, 1.8, 1.9, 1.9, 1.6]\n",
    "series = pd.Series(values, index=grid)\n",
    "pert = sandy.Pert(series)\n",
    "pert"
   ]
  },
  {
   "cell_type": "markdown",
   "metadata": {},
   "source": [
    "The `pert` variable is a `sandy.Pert` instance and it contains perturbation coefficients \n",
    "into a `pandas.Series` with a `pandas.IntervalIndex` that defines the energy bins."
   ]
  },
  {
   "cell_type": "markdown",
   "metadata": {},
   "source": [
    "> Perturbation values are given in fractions!\n",
    "> As such, a perturbation value is obtained multiplying the reference value by the perturbation coefficient.\n",
    "> Then, a perturbation coefficient equal to one does not apply any perturbation."
   ]
  },
  {
   "cell_type": "markdown",
   "metadata": {},
   "source": [
    "For plotting and analysis purposes we are often interested in tabulated values that are not indexed by energy bins, \n",
    "but by scalar energy values.\n",
    "By calling attribute `.right` the instance returns a `pandas.Series` with perturbation coefficients as `.values` and the \n",
    "right bounds of the energy bins as `.index`.\n",
    "\n",
    "Try also `pert.left` and `pert.mid`."
   ]
  },
  {
   "cell_type": "code",
   "execution_count": 4,
   "metadata": {},
   "outputs": [
    {
     "data": {
      "text/plain": [
       "1.00000e-05   1.00000e+00\n",
       "1.00000e-04   1.40000e+00\n",
       "1.00000e-03   1.30000e+00\n",
       "1.00000e-02   1.20000e+00\n",
       "1.00000e-01   1.10000e+00\n",
       "1.00000e+00   6.00000e-01\n",
       "1.00000e+05   1.80000e+00\n",
       "1.00000e+06   1.90000e+00\n",
       "1.00000e+07   1.90000e+00\n",
       "2.00000e+07   1.60000e+00\n",
       "dtype: float64"
      ]
     },
     "execution_count": 4,
     "metadata": {},
     "output_type": "execute_result"
    }
   ],
   "source": [
    "pert.right"
   ]
  },
  {
   "cell_type": "markdown",
   "metadata": {},
   "source": [
    "We can resort to the outputs produced by attributes `.right` and `.left` to plot the perturbation coefficients.\n",
    "*Notice that for a correct rendering of the output of `.left` 'steps-post' should be assigned to \n",
    "the drawstyle argument*."
   ]
  },
  {
   "cell_type": "code",
   "execution_count": 5,
   "metadata": {},
   "outputs": [
    {
     "data": {
      "image/png": "[encoded data removed]",
      "text/plain": [
       "<Figure size 576x360 with 1 Axes>"
      ]
     },
     "metadata": {
      "needs_background": "light"
     },
     "output_type": "display_data"
    }
   ],
   "source": [
    "fig, ax = plt.subplots(figsize=(8, 5))\n",
    "pert.right.plot(logx=True, drawstyle=\"steps\", ax=ax)\n",
    "plt.tight_layout();"
   ]
  },
  {
   "cell_type": "markdown",
   "metadata": {},
   "source": [
    "Perturbation objects can also be printed to a `.csv` or text file with columns divided by a specific separator."
   ]
  },
  {
   "cell_type": "code",
   "execution_count": 6,
   "metadata": {},
   "outputs": [
    {
     "name": "stdout",
     "output_type": "stream",
     "text": [
      "1e-05,1.0\n",
      "0.0001,1.4\n",
      "0.001,1.3\n",
      "0.01,1.2\n",
      "0.1,1.1\n",
      "1.0,0.6\n",
      "100000.0,1.8\n",
      "1000000.0,1.9\n",
      "10000000.0,1.9\n",
      "20000000.0,1.6\n",
      "\n"
     ]
    }
   ],
   "source": [
    "pert.right.to_csv(\"pert.csv\", sep=\",\", header=False)\n",
    "with open(\"pert.csv\") as f:\n",
    "    text = f.read()\n",
    "print(text)"
   ]
  },
  {
   "cell_type": "markdown",
   "metadata": {},
   "source": [
    "Perturbations could even be imported into `sandy` directly from a text file.  "
   ]
  },
  {
   "cell_type": "code",
   "execution_count": 7,
   "metadata": {},
   "outputs": [
    {
     "data": {
      "text/plain": [
       "ENERGY\n",
       "(0.0, 1e-05]               1.00000e+00\n",
       "(1e-05, 0.0001]            1.40000e+00\n",
       "(0.0001, 0.001]            1.30000e+00\n",
       "(0.001, 0.01]              1.20000e+00\n",
       "(0.01, 0.1]                1.10000e+00\n",
       "(0.1, 1.0]                 6.00000e-01\n",
       "(1.0, 100000.0]            1.80000e+00\n",
       "(100000.0, 1000000.0]      1.90000e+00\n",
       "(1000000.0, 10000000.0]    1.90000e+00\n",
       "(10000000.0, 20000000.0]   1.60000e+00\n",
       "dtype: float64"
      ]
     },
     "execution_count": 7,
     "metadata": {},
     "output_type": "execute_result"
    }
   ],
   "source": [
    "sandy.Pert.from_file(\"pert.csv\", sep=\",\")"
   ]
  },
  {
   "cell_type": "markdown",
   "metadata": {},
   "source": [
    "Eventually, a common request is to reshape the perturbation coefficients according the energy structure \n",
    "of, say, a cross section to directly implement a vector-vector multiplication.\n",
    "This can be done using method `.reshape` to which the new energy grid is provided."
   ]
  },
  {
   "cell_type": "code",
   "execution_count": 8,
   "metadata": {},
   "outputs": [
    {
     "data": {
      "text/plain": [
       "ENERGY\n",
       "(0.0, 1e-05]               1.00000e+00\n",
       "(1e-05, 0.0001]            1.40000e+00\n",
       "(0.0001, 0.001]            1.30000e+00\n",
       "(0.001, 0.01]              1.20000e+00\n",
       "(0.01, 0.1]                1.10000e+00\n",
       "(0.1, 1.0]                 6.00000e-01\n",
       "(1.0, 100000.0]            1.80000e+00\n",
       "(100000.0, 1000000.0]      1.90000e+00\n",
       "(1000000.0, 2000000.0]     1.90000e+00\n",
       "(2000000.0, 5000000.0]     1.90000e+00\n",
       "(5000000.0, 10000000.0]    1.90000e+00\n",
       "(10000000.0, 20000000.0]   1.60000e+00\n",
       "dtype: float64"
      ]
     },
     "execution_count": 8,
     "metadata": {},
     "output_type": "execute_result"
    }
   ],
   "source": [
    "new_grid = [1e6, 2e6, 5e6, 1e7, 2e7]\n",
    "pert2 = pert.reshape(new_grid)\n",
    "pert2"
   ]
  },
  {
   "cell_type": "markdown",
   "metadata": {},
   "source": [
    "The reshaped `pert2` objects contains the perturbation coefficients defined over a union between \n",
    "the original and the new energy grids."
   ]
  },
  {
   "cell_type": "markdown",
   "metadata": {},
   "source": [
    "Of course the two plots overlap as the information does not change."
   ]
  },
  {
   "cell_type": "code",
   "execution_count": 9,
   "metadata": {},
   "outputs": [
    {
     "data": {
      "image/png": "[encoded data removed]",
      "text/plain": [
       "<Figure size 576x360 with 1 Axes>"
      ]
     },
     "metadata": {
      "needs_background": "light"
     },
     "output_type": "display_data"
    }
   ],
   "source": [
    "fig, ax = plt.subplots(figsize=(8, 5))\n",
    "pert.right.plot(logx=True, drawstyle=\"steps\", label=\"original\", ax=ax)\n",
    "pert2.right.plot(logx=True, drawstyle=\"steps\", label=\"reshaped\", ax=ax)\n",
    "ax.legend(loc=2)\n",
    "plt.tight_layout();"
   ]
  },
  {
   "cell_type": "markdown",
   "metadata": {},
   "source": [
    "## Truncate perturbations"
   ]
  },
  {
   "cell_type": "markdown",
   "metadata": {},
   "source": [
    "Since perturbation coefficients are essentially fraction, if they are lower than 0 or higher than 2 they will introduce perturbations larger than 100%."
   ]
  },
  {
   "cell_type": "markdown",
   "metadata": {},
   "source": [
    "Below we construct a `Pert` object with normally distributed perturbation coefficients.\n",
    "Since the distribution is centered in 1 and the standard deviation is 0.5, we end up having perturbation values that exceed the limits defined above."
   ]
  },
  {
   "cell_type": "code",
   "execution_count": 10,
   "metadata": {},
   "outputs": [],
   "source": [
    "grid = sandy.uniform_loggrid(1e-5, 2e7, 1000)\n",
    "np.random.seed(1)\n",
    "values = np.random.normal(1, 0.5, grid.size)\n",
    "pp = sandy.Pert(values, index=grid, name=\"original\")"
   ]
  },
  {
   "cell_type": "code",
   "execution_count": 11,
   "metadata": {},
   "outputs": [
    {
     "data": {
      "image/png": "[encoded data removed]",
      "text/plain": [
       "<Figure size 576x360 with 1 Axes>"
      ]
     },
     "metadata": {
      "needs_background": "light"
     },
     "output_type": "display_data"
    }
   ],
   "source": [
    "fig, ax = plt.subplots(figsize=(8, 5))\n",
    "bins = 50\n",
    "pp.right.plot(kind=\"hist\", ax=ax, bins=bins, alpha=0.5)\n",
    "plt.tight_layout();"
   ]
  },
  {
   "cell_type": "markdown",
   "metadata": {},
   "source": [
    "`Pert` method `.truncate` replaces any perturbation coefficient below a given lower value with the boundary value itself. The same happens for the upper value."
   ]
  },
  {
   "cell_type": "code",
   "execution_count": 12,
   "metadata": {},
   "outputs": [
    {
     "data": {
      "image/png": "[encoded data removed]",
      "text/plain": [
       "<Figure size 576x360 with 1 Axes>"
      ]
     },
     "metadata": {
      "needs_background": "light"
     },
     "output_type": "display_data"
    }
   ],
   "source": [
    "fig, ax = plt.subplots(figsize=(8, 5))\n",
    "bins = 50\n",
    "pp.right.plot(kind=\"hist\", ax=ax, bins=bins, alpha=0.5)\n",
    "pp.truncate().right.plot(kind=\"hist\", ax=ax, bins=bins, alpha=0.5)\n",
    "pp.truncate(low=0.15, high=1.85).right.plot(kind=\"hist\", ax=ax, bins=bins, alpha=0.5)\n",
    "pp.truncate(low=0.3, high=1.7).right.plot(kind=\"hist\", ax=ax, bins=bins, alpha=0.5)\n",
    "plt.tight_layout();"
   ]
  },
  {
   "cell_type": "markdown",
   "metadata": {},
   "source": [
    "Alternatively, method recenter replaces the outliers with the central value `1.0` or with another value of choice."
   ]
  },
  {
   "cell_type": "code",
   "execution_count": 13,
   "metadata": {},
   "outputs": [
    {
     "data": {
      "image/png": "[encoded data removed]",
      "text/plain": [
       "<Figure size 576x360 with 1 Axes>"
      ]
     },
     "metadata": {
      "needs_background": "light"
     },
     "output_type": "display_data"
    }
   ],
   "source": [
    "fig, ax = plt.subplots(figsize=(8, 5))\n",
    "bins = 50\n",
    "pp.right.plot(kind=\"hist\", ax=ax, bins=bins, alpha=0.5)\n",
    "pp.recenter().right.plot(kind=\"hist\", ax=ax, bins=bins, alpha=0.5)\n",
    "pp.recenter(low=0.3, high=1.7).right.plot(kind=\"hist\", ax=ax, bins=bins, alpha=0.5)\n",
    "pp.recenter(low=0.5, high=10, value=2.5).right.plot(kind=\"hist\", ax=ax, bins=bins, alpha=0.5)\n",
    "plt.tight_layout();"
   ]
  }
 ],
 "metadata": {
  "kernelspec": {
   "display_name": "Python (aleph-test)",
   "language": "python",
   "name": "aleph-test"
  },
  "language_info": {
   "codemirror_mode": {
    "name": "ipython",
    "version": 3
   },
   "file_extension": ".py",
   "mimetype": "text/x-python",
   "name": "python",
   "nbconvert_exporter": "python",
   "pygments_lexer": "ipython3",
   "version": "3.7.8"
  }
 },
 "nbformat": 4,
 "nbformat_minor": 2
}
