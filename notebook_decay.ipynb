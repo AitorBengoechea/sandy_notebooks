{
 "cells": [
  {
   "cell_type": "markdown",
   "metadata": {},
   "source": [
    "# Interact with decay data in ENDF-6 format (MF=8, MT=457)"
   ]
  },
  {
   "cell_type": "markdown",
   "metadata": {},
   "source": [
    "First import `sandy` and other packages importing for formatting and postprocessing that are used in this notebook."
   ]
  },
  {
   "cell_type": "code",
   "execution_count": 1,
   "metadata": {},
   "outputs": [],
   "source": [
    "import os\n",
    "import urllib\n",
    "import yaml\n",
    "\n",
    "import pandas as pd"
   ]
  },
  {
   "cell_type": "code",
   "execution_count": 2,
   "metadata": {},
   "outputs": [],
   "source": [
    "%%capture --no-stdout\n",
    "import sandy"
   ]
  },
  {
   "cell_type": "markdown",
   "metadata": {},
   "source": [
    "## Read decay data in ENDF-6 format"
   ]
  },
  {
   "cell_type": "markdown",
   "metadata": {},
   "source": [
    "As always, any nuclear data evaluation can be imported into a `Endf6` instance."
   ]
  },
  {
   "cell_type": "markdown",
   "metadata": {},
   "source": [
    "Here we import the JEFF-3.3 radioactive decay data library from the [OECD/NEA website](https://www.oecd-nea.org/dbdata/jeff/jeff33/index.html)."
   ]
  },
  {
   "cell_type": "code",
   "execution_count": 3,
   "metadata": {},
   "outputs": [],
   "source": [
    "url = \"https://www.oecd-nea.org/dbdata/jeff/jeff33/downloads/JEFF33-rdd_all.asc\"\n",
    "with urllib.request.urlopen(url) as f:\n",
    "    text = f.read().decode('utf-8')"
   ]
  },
  {
   "cell_type": "code",
   "execution_count": 4,
   "metadata": {},
   "outputs": [
    {
     "data": {
      "text/plain": [
       "MAT   MF  MT \n",
       "1     1   451     1.000000+0 1.000000+0         -1          0  ...\n",
       "      8   457     1.000000+0 1.000000+0          0          0  ...\n",
       "2     1   451     1.001000+3 9.991670-1         -1          0  ...\n",
       "      8   457     1.001000+3 9.991670-1          0          0  ...\n",
       "3     1   451     1.002000+3 1.996800+0         -1          0  ...\n",
       "                                       ...                        \n",
       "3850  8   457     1.102730+5 2.708020+2          0          0  ...\n",
       "3851  1   451     1.102730+5 2.708020+2         -1          0  ...\n",
       "      8   457     1.102730+5 2.708020+2          1          1  ...\n",
       "3852  1   451     1.112720+5 2.698160+2         -1          0  ...\n",
       "      8   457     1.112720+5 2.698160+2          0          0  ...\n",
       "Length: 7731, dtype: object"
      ]
     },
     "execution_count": 4,
     "metadata": {},
     "output_type": "execute_result"
    }
   ],
   "source": [
    "tape = sandy.Endf6.from_text(text)\n",
    "tape"
   ]
  },
  {
   "cell_type": "markdown",
   "metadata": {},
   "source": [
    "The ENDF-6 data in `tape` can be parsed and extracted into a hierarchical format (nested `dict`) using method `DecayData.from_endf6`."
   ]
  },
  {
   "cell_type": "code",
   "execution_count": 5,
   "metadata": {},
   "outputs": [],
   "source": [
    "rdd = sandy.DecayData.from_endf6(tape)"
   ]
  },
  {
   "cell_type": "markdown",
   "metadata": {},
   "source": [
    "A better rendering of the `rdd` data content can be obtained with the `yaml` python package."
   ]
  },
  {
   "cell_type": "code",
   "execution_count": 6,
   "metadata": {},
   "outputs": [
    {
     "name": "stdout",
     "output_type": "stream",
     "text": [
      "decay_constant: 1.063988758436722e-08\n",
      "decay_energy:\n",
      "  alpha: 0.0\n",
      "  beta: 163850.0\n",
      "  gamma: 1554660.0\n",
      "  total: 1718510.0\n",
      "decay_energy_uncertainties:\n",
      "  alpha: 0.0\n",
      "  beta: 403.088\n",
      "  gamma: 895.993\n",
      "  total: 982.4883672558165\n",
      "decay_modes:\n",
      "  10x0:\n",
      "    branching_ratio: 0.9999969999999999\n",
      "    branching_ratio_uncertainty: 1.0e-06\n",
      "    decay_products:\n",
      "      561340: 1.0\n",
      "  20x0:\n",
      "    branching_ratio: 3.0e-06\n",
      "    branching_ratio_uncertainty: 1.0e-06\n",
      "    decay_products:\n",
      "      541340: 1.0\n",
      "half_life: 65146100.0\n",
      "parity: 1.0\n",
      "spin: 4.0\n",
      "stable: false\n",
      "\n"
     ]
    }
   ],
   "source": [
    "print(yaml.dump(rdd.data[551340]))"
   ]
  },
  {
   "cell_type": "code",
   "execution_count": 7,
   "metadata": {},
   "outputs": [
    {
     "name": "stdout",
     "output_type": "stream",
     "text": [
      "decay_constant: 0\n",
      "decay_energy:\n",
      "  alpha: 0.0\n",
      "  beta: 0.0\n",
      "  gamma: 0.0\n",
      "  total: 0.0\n",
      "decay_energy_uncertainties:\n",
      "  alpha: 0.0\n",
      "  beta: 0.0\n",
      "  gamma: 0.0\n",
      "  total: 0.0\n",
      "half_life: 0.0\n",
      "parity: 1.0\n",
      "spin: 0.0\n",
      "stable: true\n",
      "\n"
     ]
    }
   ],
   "source": [
    "print(yaml.dump(rdd.data[400900]))"
   ]
  },
  {
   "cell_type": "markdown",
   "metadata": {},
   "source": [
    "The description of the `rdd.data` structure is explained below, where `zam` and `zap` are \n",
    "equal to `Z * 10000 + A * 10 + M` for the parent and daughter isotopes, respectively, with \n",
    "`Z`, `A`, and `M` being the charge, nucleons and metastate numbers."
   ]
  },
  {
   "cell_type": "markdown",
   "metadata": {},
   "source": [
    "```yaml\n",
    "    zam :\n",
    "        half_life : value in s\n",
    "        decay_constant : value in 1/s\n",
    "        stable : True/False\n",
    "        decay_energy :\n",
    "            alpha: value in eV\n",
    "            beta: value in eV\n",
    "            gamma: value in eV\n",
    "            total: value in eV\n",
    "        decay_energy_uncertainty :\n",
    "            alpha: value in eV\n",
    "            beta: value in eV\n",
    "            gamma: value in eV\n",
    "            total: value in eV\n",
    "        decay_modes :\n",
    "            rtyp : \n",
    "                decay_products : \n",
    "                    zap : yield\n",
    "                    zap_2 : yield_2\n",
    "                    ...\n",
    "                branching_ratio : value\n",
    "            rtyp_2 : ...\n",
    "    zam_2 : ...\n",
    "```"
   ]
  },
  {
   "cell_type": "markdown",
   "metadata": {},
   "source": [
    "`rtyp` is a string storing a sequence of integers, each of which defining the \n",
    "several decay events covered by a given decay mode.\n",
    "The list of individual decay events is accessible via variable `sandy.decay_modes`."
   ]
  },
  {
   "cell_type": "code",
   "execution_count": 8,
   "metadata": {},
   "outputs": [
    {
     "data": {
      "text/plain": [
       "{0: 'gamma',\n",
       " 1: 'beta',\n",
       " 2: 'e.c.',\n",
       " 3: 'i.t.',\n",
       " 4: 'alpha',\n",
       " 5: 'n',\n",
       " 6: 's.f.',\n",
       " 7: 'p'}"
      ]
     },
     "execution_count": 8,
     "metadata": {},
     "output_type": "execute_result"
    }
   ],
   "source": [
    "sandy.decay_modes"
   ]
  },
  {
   "cell_type": "markdown",
   "metadata": {},
   "source": [
    "## Extract structured information into dataframes"
   ]
  },
  {
   "cell_type": "markdown",
   "metadata": {},
   "source": [
    "We can extract the decay chains information (decay constant `LAMBDA` and branching ratio `YIELD`) into a `pandas.DataFrame`."
   ]
  },
  {
   "cell_type": "code",
   "execution_count": 9,
   "metadata": {},
   "outputs": [
    {
     "data": {
      "text/html": [
       "<div>\n",
       "<style scoped>\n",
       "    .dataframe tbody tr th:only-of-type {\n",
       "        vertical-align: middle;\n",
       "    }\n",
       "\n",
       "    .dataframe tbody tr th {\n",
       "        vertical-align: top;\n",
       "    }\n",
       "\n",
       "    .dataframe thead th {\n",
       "        text-align: right;\n",
       "    }\n",
       "</style>\n",
       "<table border=\"1\" class=\"dataframe\">\n",
       "  <thead>\n",
       "    <tr style=\"text-align: right;\">\n",
       "      <th></th>\n",
       "      <th>PARENT</th>\n",
       "      <th>DAUGHTER</th>\n",
       "      <th>YIELD</th>\n",
       "      <th>LAMBDA</th>\n",
       "    </tr>\n",
       "  </thead>\n",
       "  <tbody>\n",
       "    <tr>\n",
       "      <th>0</th>\n",
       "      <td>10</td>\n",
       "      <td>10</td>\n",
       "      <td>-1.00000e+00</td>\n",
       "      <td>1.12780e-03</td>\n",
       "    </tr>\n",
       "    <tr>\n",
       "      <th>1</th>\n",
       "      <td>10</td>\n",
       "      <td>10010</td>\n",
       "      <td>1.00000e+00</td>\n",
       "      <td>1.12780e-03</td>\n",
       "    </tr>\n",
       "    <tr>\n",
       "      <th>2</th>\n",
       "      <td>10010</td>\n",
       "      <td>10010</td>\n",
       "      <td>0.00000e+00</td>\n",
       "      <td>0.00000e+00</td>\n",
       "    </tr>\n",
       "    <tr>\n",
       "      <th>3</th>\n",
       "      <td>10020</td>\n",
       "      <td>10020</td>\n",
       "      <td>0.00000e+00</td>\n",
       "      <td>0.00000e+00</td>\n",
       "    </tr>\n",
       "    <tr>\n",
       "      <th>4</th>\n",
       "      <td>10030</td>\n",
       "      <td>10030</td>\n",
       "      <td>-1.00000e+00</td>\n",
       "      <td>1.78139e-09</td>\n",
       "    </tr>\n",
       "    <tr>\n",
       "      <th>...</th>\n",
       "      <td>...</td>\n",
       "      <td>...</td>\n",
       "      <td>...</td>\n",
       "      <td>...</td>\n",
       "    </tr>\n",
       "    <tr>\n",
       "      <th>10375</th>\n",
       "      <td>1102731</td>\n",
       "      <td>1082690</td>\n",
       "      <td>1.00000e+00</td>\n",
       "      <td>5.77623e+00</td>\n",
       "    </tr>\n",
       "    <tr>\n",
       "      <th>10376</th>\n",
       "      <td>1102731</td>\n",
       "      <td>1102731</td>\n",
       "      <td>-1.00000e+00</td>\n",
       "      <td>5.77623e+00</td>\n",
       "    </tr>\n",
       "    <tr>\n",
       "      <th>10377</th>\n",
       "      <td>1112720</td>\n",
       "      <td>20040</td>\n",
       "      <td>1.00000e+00</td>\n",
       "      <td>3.46574e+02</td>\n",
       "    </tr>\n",
       "    <tr>\n",
       "      <th>10378</th>\n",
       "      <td>1112720</td>\n",
       "      <td>1092680</td>\n",
       "      <td>1.00000e+00</td>\n",
       "      <td>3.46574e+02</td>\n",
       "    </tr>\n",
       "    <tr>\n",
       "      <th>10379</th>\n",
       "      <td>1112720</td>\n",
       "      <td>1112720</td>\n",
       "      <td>-1.00000e+00</td>\n",
       "      <td>3.46574e+02</td>\n",
       "    </tr>\n",
       "  </tbody>\n",
       "</table>\n",
       "<p>10380 rows × 4 columns</p>\n",
       "</div>"
      ],
      "text/plain": [
       "        PARENT  DAUGHTER        YIELD      LAMBDA\n",
       "0           10        10 -1.00000e+00 1.12780e-03\n",
       "1           10     10010  1.00000e+00 1.12780e-03\n",
       "2        10010     10010  0.00000e+00 0.00000e+00\n",
       "3        10020     10020  0.00000e+00 0.00000e+00\n",
       "4        10030     10030 -1.00000e+00 1.78139e-09\n",
       "...        ...       ...          ...         ...\n",
       "10375  1102731   1082690  1.00000e+00 5.77623e+00\n",
       "10376  1102731   1102731 -1.00000e+00 5.77623e+00\n",
       "10377  1112720     20040  1.00000e+00 3.46574e+02\n",
       "10378  1112720   1092680  1.00000e+00 3.46574e+02\n",
       "10379  1112720   1112720 -1.00000e+00 3.46574e+02\n",
       "\n",
       "[10380 rows x 4 columns]"
      ]
     },
     "execution_count": 9,
     "metadata": {},
     "output_type": "execute_result"
    }
   ],
   "source": [
    "chains = rdd.get_decay_chains()\n",
    "chains"
   ]
  },
  {
   "cell_type": "markdown",
   "metadata": {},
   "source": [
    "## Convert decay data into HDF5 format"
   ]
  },
  {
   "cell_type": "markdown",
   "metadata": {},
   "source": [
    "Codes like ALEPH read radioactive decay data from nuclear data files in HDF5 format.\n",
    "To produce such files we can use `sandy` and method `DecayData.to_hdf5`."
   ]
  },
  {
   "cell_type": "markdown",
   "metadata": {},
   "source": [
    "As an example, we can transfer the whole content of the `fy` instance to a HDF5 file `'decay.hdf5'`."
   ]
  },
  {
   "cell_type": "code",
   "execution_count": 10,
   "metadata": {},
   "outputs": [],
   "source": [
    "%%capture\n",
    "h5filename = \"decay.hdf5\"\n",
    "libname = \"jeff_33\"\n",
    "if os.path.exists(h5filename):\n",
    "    os.remove(h5filename)\n",
    "rdd.to_hdf5(h5filename, libname)"
   ]
  },
  {
   "cell_type": "markdown",
   "metadata": {},
   "source": [
    "Decay data can also be read directly from a HDF5 file using method `DecayData.from_hdf5`."
   ]
  },
  {
   "cell_type": "code",
   "execution_count": 11,
   "metadata": {},
   "outputs": [],
   "source": [
    "rdd2 = sandy.DecayData.from_hdf5(h5filename, libname)"
   ]
  },
  {
   "cell_type": "code",
   "execution_count": 12,
   "metadata": {},
   "outputs": [],
   "source": [
    "chains2 = rdd2.get_decay_chains()\n",
    "pd.testing.assert_frame_equal(chains, chains2)"
   ]
  }
 ],
 "metadata": {
  "kernelspec": {
   "display_name": "Python (aleph-test)",
   "language": "python",
   "name": "aleph-test"
  },
  "language_info": {
   "codemirror_mode": {
    "name": "ipython",
    "version": 3
   },
   "file_extension": ".py",
   "mimetype": "text/x-python",
   "name": "python",
   "nbconvert_exporter": "python",
   "pygments_lexer": "ipython3",
   "version": "3.7.8"
  }
 },
 "nbformat": 4,
 "nbformat_minor": 2
}
