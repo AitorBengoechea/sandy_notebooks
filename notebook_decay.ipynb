{
 "cells": [
  {
   "cell_type": "markdown",
   "metadata": {},
   "source": [
    "# Interact with decay data in ENDF-6 format (MF=8, MT=457)"
   ]
  },
  {
   "cell_type": "markdown",
   "metadata": {},
   "source": [
    "First import `sandy` and other packages importing for formatting and postprocessing that are used in this notebook."
   ]
  },
  {
   "cell_type": "code",
   "execution_count": null,
   "metadata": {},
   "outputs": [],
   "source": [
    "import os\n",
    "import urllib\n",
    "import yaml\n",
    "\n",
    "import pandas as pd"
   ]
  },
  {
   "cell_type": "code",
   "execution_count": null,
   "metadata": {},
   "outputs": [],
   "source": [
    "import sandy"
   ]
  },
  {
   "cell_type": "markdown",
   "metadata": {},
   "source": [
    "## Read decay data in ENDF-6 format"
   ]
  },
  {
   "cell_type": "markdown",
   "metadata": {},
   "source": [
    "As always, any nuclear data evaluation can be imported into a `Endf6` instance."
   ]
  },
  {
   "cell_type": "markdown",
   "metadata": {},
   "source": [
    "Here we import the JEFF-3.3 radioactive decay data library from the [OECD/NEA website](https://www.oecd-nea.org/dbdata/jeff/jeff33/index.html)."
   ]
  },
  {
   "cell_type": "code",
   "execution_count": null,
   "metadata": {},
   "outputs": [],
   "source": [
    "url = \"https://www.oecd-nea.org/dbdata/jeff/jeff33/downloads/JEFF33-rdd_all.asc\"\n",
    "with urllib.request.urlopen(url) as f:\n",
    "    text = f.read().decode('utf-8')"
   ]
  },
  {
   "cell_type": "code",
   "execution_count": null,
   "metadata": {},
   "outputs": [],
   "source": [
    "tape = sandy.Endf6.from_text(text)\n",
    "tape"
   ]
  },
  {
   "cell_type": "markdown",
   "metadata": {},
   "source": [
    "The ENDF-6 data in `tape` can be parsed and extracted into a hierarchical format (nested `dict`) using method `DecayData.from_endf6`."
   ]
  },
  {
   "cell_type": "code",
   "execution_count": null,
   "metadata": {},
   "outputs": [],
   "source": [
    "rdd = sandy.DecayData.from_endf6(tape)"
   ]
  },
  {
   "cell_type": "markdown",
   "metadata": {},
   "source": [
    "A better rendering of the `rdd` data content can be obtained with the `yaml` python package."
   ]
  },
  {
   "cell_type": "code",
   "execution_count": null,
   "metadata": {},
   "outputs": [],
   "source": [
    "print(yaml.dump(rdd.data[551340]))"
   ]
  },
  {
   "cell_type": "code",
   "execution_count": null,
   "metadata": {},
   "outputs": [],
   "source": [
    "print(yaml.dump(rdd.data[400900]))"
   ]
  },
  {
   "cell_type": "markdown",
   "metadata": {},
   "source": [
    "The description of the `rdd.data` structure is explained below, where `zam` and `zap` are \n",
    "equal to `Z * 10000 + A * 10 + M` for the parent and daughter isotopes, respectively, with \n",
    "`Z`, `A`, and `M` being the charge, nucleons and metastate numbers."
   ]
  },
  {
   "cell_type": "markdown",
   "metadata": {},
   "source": [
    "```yaml\n",
    "    zam :\n",
    "        half_life : value in s\n",
    "        decay_constant : value in 1/s\n",
    "        stable : True/False\n",
    "        decay_energy :\n",
    "            alpha: value in eV\n",
    "            beta: value in eV\n",
    "            gamma: value in eV\n",
    "            total: value in eV\n",
    "        decay_energy_uncertainty :\n",
    "            alpha: value in eV\n",
    "            beta: value in eV\n",
    "            gamma: value in eV\n",
    "            total: value in eV\n",
    "        decay_modes :\n",
    "            rtyp : \n",
    "                decay_products : \n",
    "                    zap : yield\n",
    "                    zap_2 : yield_2\n",
    "                    ...\n",
    "                branching_ratio : value\n",
    "            rtyp_2 : ...\n",
    "    zam_2 : ...\n",
    "```"
   ]
  },
  {
   "cell_type": "markdown",
   "metadata": {},
   "source": [
    "`rtyp` is a string storing a sequence of integers, each of which defining the \n",
    "several decay events covered by a given decay mode.\n",
    "The list of individual decay events is accessible via variable `sandy.decay_modes`."
   ]
  },
  {
   "cell_type": "code",
   "execution_count": null,
   "metadata": {},
   "outputs": [],
   "source": [
    "sandy.decay_modes"
   ]
  },
  {
   "cell_type": "markdown",
   "metadata": {},
   "source": [
    "## Extract structured information into dataframes"
   ]
  },
  {
   "cell_type": "markdown",
   "metadata": {},
   "source": [
    "We can extract the decay chains information (decay constant `LAMBDA` and branching ratio `YIELD`) into a `pandas.DataFrame`."
   ]
  },
  {
   "cell_type": "code",
   "execution_count": null,
   "metadata": {},
   "outputs": [],
   "source": [
    "chains = rdd.get_decay_chains()\n",
    "chains"
   ]
  },
  {
   "cell_type": "markdown",
   "metadata": {},
   "source": [
    "## Convert decay data into HDF5 format"
   ]
  },
  {
   "cell_type": "markdown",
   "metadata": {},
   "source": [
    "Codes like ALEPH read radioactive decay data from nuclear data files in HDF5 format.\n",
    "To produce such files we can use `sandy` and method `DecayData.to_hdf5`."
   ]
  },
  {
   "cell_type": "markdown",
   "metadata": {},
   "source": [
    "As an example, we can transfer the whole content of the `fy` instance to a HDF5 file `'decay.hdf5'`."
   ]
  },
  {
   "cell_type": "code",
   "execution_count": null,
   "metadata": {},
   "outputs": [],
   "source": [
    "%%capture\n",
    "h5filename = \"decay.hdf5\"\n",
    "libname = \"jeff_33\"\n",
    "if os.path.exists(h5filename):\n",
    "    os.remove(h5filename)\n",
    "rdd.to_hdf5(h5filename, libname)"
   ]
  },
  {
   "cell_type": "markdown",
   "metadata": {},
   "source": [
    "Decay data can also be read directly from a HDF5 file using method `DecayData.from_hdf5`."
   ]
  },
  {
   "cell_type": "code",
   "execution_count": null,
   "metadata": {},
   "outputs": [],
   "source": [
    "rdd2 = sandy.DecayData.from_hdf5(h5filename, libname)"
   ]
  },
  {
   "cell_type": "code",
   "execution_count": null,
   "metadata": {},
   "outputs": [],
   "source": [
    "chains2 = rdd2.get_decay_chains()\n",
    "pd.testing.assert_frame_equal(chains, chains2)"
   ]
  }
 ],
 "metadata": {
  "kernelspec": {
   "display_name": "Python (aleph-test)",
   "language": "python",
   "name": "aleph-test"
  },
  "language_info": {
   "codemirror_mode": {
    "name": "ipython",
    "version": 3
   },
   "file_extension": ".py",
   "mimetype": "text/x-python",
   "name": "python",
   "nbconvert_exporter": "python",
   "pygments_lexer": "ipython3",
   "version": "3.7.8"
  }
 },
 "nbformat": 4,
 "nbformat_minor": 2
}
