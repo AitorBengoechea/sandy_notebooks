{
 "cells": [
  {
   "cell_type": "markdown",
   "metadata": {},
   "source": [
    "# Interacting with fission product yields in ENDF-6 format (MF=8, MT=454/459)"
   ]
  },
  {
   "cell_type": "markdown",
   "metadata": {},
   "source": [
    "First let's import `sandy` and the other python packages for formatting and postprocessing that are used in this notebook."
   ]
  },
  {
   "cell_type": "code",
   "execution_count": 1,
   "metadata": {},
   "outputs": [],
   "source": [
    "import yaml\n",
    "import urllib\n",
    "import os\n",
    "\n",
    "import pandas as pd"
   ]
  },
  {
   "cell_type": "code",
   "execution_count": 2,
   "metadata": {},
   "outputs": [],
   "source": [
    "%%capture --no-stdout\n",
    "import sandy"
   ]
  },
  {
   "cell_type": "code",
   "execution_count": 3,
   "metadata": {},
   "outputs": [],
   "source": [
    "import matplotlib.pyplot as plt\n",
    "import seaborn as sns\n",
    "\n",
    "sns.set_context(\"notebook\")\n",
    "sns.set_style(\"whitegrid\")\n",
    "\n",
    "%matplotlib inline"
   ]
  },
  {
   "cell_type": "markdown",
   "metadata": {},
   "source": [
    "## Parsing the data in ENDF-6 format"
   ]
  },
  {
   "cell_type": "markdown",
   "metadata": {},
   "source": [
    "The first thing that we want to do with an evaluated nuclear data  file in ENDF-6 format is to load its content into python using `sandy`.\n",
    "By calling `sandy.Endf6.from_file`, the ENDF-6 file is parsed and its content is split into text sections, each of them indexed by a unique combination of MAT, MF and MT numbers. "
   ]
  },
  {
   "cell_type": "markdown",
   "metadata": {},
   "source": [
    "Below we report an example using the JEFF-3.3 fission yield evaluated file available on the [OECD/NEA website](https://www.oecd-nea.org/dbdata/jeff/jeff33/index.html).\n",
    "The file content is loaded into the `Endf6` instance that we name `tape`."
   ]
  },
  {
   "cell_type": "code",
   "execution_count": 4,
   "metadata": {},
   "outputs": [],
   "source": [
    "url = \"https://www.oecd-nea.org/dbdata/jeff/jeff33/downloads/JEFF33-nfy.asc\"\n",
    "with urllib.request.urlopen(url) as f:\n",
    "    text_fy = f.read().decode('utf-8')"
   ]
  },
  {
   "cell_type": "code",
   "execution_count": 5,
   "metadata": {},
   "outputs": [],
   "source": [
    "%%capture\n",
    "tape = sandy.Endf6.from_text(text_fy)"
   ]
  },
  {
   "cell_type": "code",
   "execution_count": 6,
   "metadata": {},
   "outputs": [
    {
     "data": {
      "text/plain": [
       "MAT   MF  MT \n",
       "9040  1   451     9.023200+4 2.300450+2         -1          1  ...\n",
       "      8   454     9.023200+4 2.300450+2          2          0  ...\n",
       "          459     9.023200+4 2.300450+2          2          0  ...\n",
       "9222  1   451     9.223300+4 2.310380+2         -1          1  ...\n",
       "      8   454     9.223300+4 2.310380+2          3          0  ...\n",
       "          459     9.223300+4 2.310380+2          3          0  ...\n",
       "9225  1   451     9.223400+4 2.320300+2         -1          1  ...\n",
       "      8   454     9.223400+4 2.320300+2          1          0  ...\n",
       "          459     9.223400+4 2.320300+2          1          0  ...\n",
       "9228  1   451     9.223500+4 2.330250+2         -1          1  ...\n",
       "      8   454     9.223500+4 2.330250+2          3          0  ...\n",
       "          459     9.223500+4 2.330250+2          3          0  ...\n",
       "9231  1   451     9.223600+4 2.340180+2         -1          1  ...\n",
       "      8   454     9.223600+4 2.340180+2          2          0  ...\n",
       "          459     9.223600+4 2.340180+2          2          0  ...\n",
       "9237  1   451     9.223800+4 2.360060+2         -1          1  ...\n",
       "      8   454     9.223800+4 2.360060+2          2          0  ...\n",
       "          459     9.223800+4 2.360060+2          2          0  ...\n",
       "9346  1   451     9.323700+4 2.350120+2         -1          1  ...\n",
       "      8   454     9.323700+4 2.350120+2          2          0  ...\n",
       "          459     9.323700+4 2.350120+2          2          0  ...\n",
       "9349  1   451     9.323800+4 2.360060+2         -1          1  ...\n",
       "      8   454     9.323800+4 2.360060+2          2          0  ...\n",
       "          459     9.323800+4 2.360060+2          2          0  ...\n",
       "9434  1   451     9.423800+4 2.360050+2         -1          1  ...\n",
       "      8   454     9.423800+4 2.360050+2          2          0  ...\n",
       "          459     9.423800+4 2.360050+2          2          0  ...\n",
       "9437  1   451     9.423900+4 2.369990+2         -1          1  ...\n",
       "      8   454     9.423900+4 2.369990+2          2          0  ...\n",
       "          459     9.423900+4 2.369990+2          2          0  ...\n",
       "9440  1   451     9.424000+4 2.379920+2         -1          1  ...\n",
       "      8   454     9.424000+4 2.379920+2          1          0  ...\n",
       "          459     9.424000+4 2.379920+2          1          0  ...\n",
       "9443  1   451     9.424100+4 2.389860+2         -1          1  ...\n",
       "      8   454     9.424100+4 2.389860+2          2          0  ...\n",
       "          459     9.424100+4 2.389860+2          2          0  ...\n",
       "9446  1   451     9.424200+4 2.399790+2         -1          1  ...\n",
       "      8   454     9.424200+4 2.399790+2          1          0  ...\n",
       "          459     9.424200+4 2.399790+2          1          0  ...\n",
       "9543  1   451     9.524100+4 2.389860+2         -1          1  ...\n",
       "      8   454     9.524100+4 2.389860+2          2          0  ...\n",
       "          459     9.524100+4 2.389860+2          2          0  ...\n",
       "9547  1   451     9.524200+4 2.399800+2         -1          1  ...\n",
       "      8   454     9.524200+4 2.399800+2          2          0  ...\n",
       "          459     9.524200+4 2.399800+2          2          0  ...\n",
       "9549  1   451     9.524300+4 2.409730+2         -1          1  ...\n",
       "      8   454     9.524300+4 2.409730+2          2          0  ...\n",
       "          459     9.524300+4 2.409730+2          2          0  ...\n",
       "9634  1   451     9.624300+4 2.409730+2         -1          1  ...\n",
       "      8   454     9.624300+4 2.409730+2          2          0  ...\n",
       "          459     9.624300+4 2.409730+2          2          0  ...\n",
       "9637  1   451     9.624400+4 2.419040+2         -1          1  ...\n",
       "      8   454     9.624400+4 2.419040+2          2          0  ...\n",
       "          459     9.624400+4 2.419040+2          2          0  ...\n",
       "9640  1   451     9.624500+4 2.429600+2         -1          1  ...\n",
       "      8   454     9.624500+4 2.429600+2          2          0  ...\n",
       "          459     9.624500+4 2.429600+2          2          0  ...\n",
       "dtype: object"
      ]
     },
     "execution_count": 6,
     "metadata": {},
     "output_type": "execute_result"
    }
   ],
   "source": [
    "tape"
   ]
  },
  {
   "cell_type": "markdown",
   "metadata": {},
   "source": [
    "Now, the information available in each `(MAT,MF,MT)` section in ASCII format can be extracted using method `.read_section`, \n",
    "as shown below.\n",
    "\n",
    "> Recall that MF=8 MT=454 are the indices for independent fission yields, MF=8 MT=459 for cumulative fission yields"
   ]
  },
  {
   "cell_type": "code",
   "execution_count": 7,
   "metadata": {},
   "outputs": [],
   "source": [
    "mat = 9437  # This is Pu-239\n",
    "mf = 8\n",
    "mt = 454\n",
    "\n",
    "section = tape.read_section(mat, mf, mt)"
   ]
  },
  {
   "cell_type": "markdown",
   "metadata": {},
   "source": [
    "For a better visualization of the FY data structure generated by `.read_section` we resort to the `yaml` package and we print only the first 11 lines."
   ]
  },
  {
   "cell_type": "code",
   "execution_count": 8,
   "metadata": {},
   "outputs": [
    {
     "name": "stdout",
     "output_type": "stream",
     "text": [
      "AWR: 236.999\n",
      "E:\n",
      "  0.0253:\n",
      "    INTERP: 1\n",
      "    ZAP:\n",
      "      10010:\n",
      "        DFY: 7.052699999999999e-06\n",
      "        FY: 4.08e-05\n",
      "      10020:\n",
      "        DFY: 2.8929000000000003e-06\n",
      "        FY: 1.347e-05\n"
     ]
    }
   ],
   "source": [
    "print(\"\\n\".join(yaml.dump(section).splitlines()[:11]))"
   ]
  },
  {
   "cell_type": "markdown",
   "metadata": {},
   "source": [
    "The data contained in the ENDF-6 section are stored in nested dictionaries, \n",
    "according to the following structure that tries and replicate the ENDF-6 hierarchy."
   ]
  },
  {
   "cell_type": "markdown",
   "metadata": {},
   "source": [
    "```yaml\n",
    "    AWR : atomic weight ratio\n",
    "    E :   # dictionary of tabulated energies at which fission yields are given\n",
    "        energy :  # energy of the neutron causing fission (eV)\n",
    "            INTERP : interpolation scheme between this and the following energy point\n",
    "            ZAP :   # dictionary of fission products\n",
    "                Z*1000 + A*10 + M :\n",
    "                    FY : fission yield (fraction)\n",
    "                    DFY : uncertainty on fission yield (same unit as FY)\n",
    "                Z2*1000 + A2*10 + M2 : ...\n",
    "        energy_2 : ...\n",
    "```"
   ]
  },
  {
   "cell_type": "markdown",
   "metadata": {},
   "source": [
    "## Create a `sandy.Fy` object"
   ]
  },
  {
   "cell_type": "markdown",
   "metadata": {},
   "source": [
    "Class `sandy.Fy` was developed to store and process fission yield data.\n",
    "\n",
    "The ASCII content in a `sandy.Endf6` instance can be directly imported into a `sandy.Fy` instance using \n",
    "classmethod `.from_endf6`, where the `sandy.Endf6` object is passed as an argument."
   ]
  },
  {
   "cell_type": "code",
   "execution_count": 9,
   "metadata": {},
   "outputs": [
    {
     "data": {
      "text/plain": [
       "        MAT   MT     ZAM     ZAP           E          FY\n",
       "0      9040  454  902320   10010 4.00000e+05 1.60730e-05\n",
       "1      9040  454  902320   10020 4.00000e+05 4.91210e-06\n",
       "2      9040  454  902320   10030 4.00000e+05 7.00810e-05\n",
       "3      9040  454  902320   20030 4.00000e+05 0.00000e+00\n",
       "4      9040  454  902320   20040 4.00000e+05 1.01610e-03\n",
       "...     ...  ...     ...     ...         ...         ...\n",
       "79489  9640  459  962450  781960 4.00000e+05 5.24140e-12\n",
       "79490  9640  459  962450  781970 4.00000e+05 3.23410e-12\n",
       "79491  9640  459  962450  781971 4.00000e+05 2.43890e-12\n",
       "79492  9640  459  962450  781980 4.00000e+05 1.51570e-12\n",
       "79493  9640  459  962450  791970 4.00000e+05 3.31460e-12\n",
       "\n",
       "[79494 rows x 6 columns]"
      ]
     },
     "execution_count": 9,
     "metadata": {},
     "output_type": "execute_result"
    }
   ],
   "source": [
    "fy = sandy.Fy.from_endf6(tape)\n",
    "fy"
   ]
  },
  {
   "cell_type": "markdown",
   "metadata": {},
   "source": [
    "The `pd.DataFrame` containing the source data is stored in attribute `.data`, which contains fission yields FY together with the corresponding:\n",
    "- MAT\n",
    "- MT\n",
    "- ZAM\n",
    "- ZAP\n",
    "- E\n",
    "\n",
    "Here ZAM and ZAP are the `Z*10000 + A*10 + M` representation for the parent and daugther nuclides."
   ]
  },
  {
   "cell_type": "markdown",
   "metadata": {},
   "source": [
    "## How to filter the fission yield data "
   ]
  },
  {
   "cell_type": "markdown",
   "metadata": {},
   "source": [
    "The fission yield data can be filtered directly applying the `pandas` functionality to attribute `.data`.\n",
    "However, we recommend using method `.filter_by` to make sure that the returned object be still a `sandy.Fy` instance."
   ]
  },
  {
   "cell_type": "markdown",
   "metadata": {},
   "source": [
    "Below are two examples where `sandy.Fy` instances are created first by filtering only the cumulative yield at thermal energy for the fission of U-235 (`ZAM=922350`), and then keeping only the cumulative fission yields at thermal energy for Cs-137 (`ZAP=551370`) independently of the fissioning nuclide."
   ]
  },
  {
   "cell_type": "code",
   "execution_count": 10,
   "metadata": {},
   "outputs": [
    {
     "data": {
      "text/plain": [
       "      MAT   MT     ZAM     ZAP           E          FY\n",
       "0    9228  459  922350   10010 2.53000e-02 1.71100e-05\n",
       "1    9228  459  922350   10020 2.53000e-02 8.40000e-06\n",
       "2    9228  459  922350   10030 2.53000e-02 1.08000e-04\n",
       "3    9228  459  922350   20030 2.53000e-02 1.08000e-04\n",
       "4    9228  459  922350   20040 2.53000e-02 1.70210e-03\n",
       "..    ...  ...     ...     ...         ...         ...\n",
       "978  9228  459  922350  701770 2.53000e-02 1.08900e-12\n",
       "979  9228  459  922350  701771 2.53000e-02 1.08900e-12\n",
       "980  9228  459  922350  711750 2.53000e-02 7.36160e-12\n",
       "981  9228  459  922350  711770 2.53000e-02 1.08900e-12\n",
       "982  9228  459  922350  721770 2.53000e-02 1.08900e-12\n",
       "\n",
       "[983 rows x 6 columns]"
      ]
     },
     "execution_count": 10,
     "metadata": {},
     "output_type": "execute_result"
    }
   ],
   "source": [
    "cfyU235 = fy.filter_by(\"ZAM\", 922350).filter_by(\"MT\", 459).filter_by(\"E\", 2.53e-2)\n",
    "cfyU235"
   ]
  },
  {
   "cell_type": "code",
   "execution_count": 11,
   "metadata": {},
   "outputs": [
    {
     "data": {
      "text/plain": [
       "     MAT   MT     ZAM     ZAP           E          FY\n",
       "0   9222  459  922330  551370 2.53000e-02 6.26070e-02\n",
       "1   9228  459  922350  551370 2.53000e-02 6.08970e-02\n",
       "2   9231  459  922360  551370 2.53000e-02 6.08310e-02\n",
       "3   9346  459  932370  551370 2.53000e-02 7.03340e-02\n",
       "4   9349  459  932380  551370 2.53000e-02 7.09050e-02\n",
       "5   9434  459  942380  551370 2.53000e-02 5.84950e-02\n",
       "6   9437  459  942390  551370 2.53000e-02 6.57960e-02\n",
       "7   9443  459  942410  551370 2.53000e-02 6.40440e-02\n",
       "8   9543  459  952410  551370 2.53000e-02 7.20690e-02\n",
       "9   9547  459  952420  551370 2.53000e-02 5.65360e-02\n",
       "10  9549  459  952430  551370 2.53000e-02 7.31680e-02\n",
       "11  9634  459  962430  551370 2.53000e-02 7.03410e-02\n",
       "12  9637  459  962440  551370 2.53000e-02 6.88910e-02\n",
       "13  9640  459  962450  551370 2.53000e-02 5.37540e-02"
      ]
     },
     "execution_count": 11,
     "metadata": {},
     "output_type": "execute_result"
    }
   ],
   "source": [
    "cfyCs137 = fy.filter_by(\"ZAP\", 551370).filter_by(\"MT\", 459).filter_by(\"E\", 2.53e-2)\n",
    "cfyCs137"
   ]
  },
  {
   "cell_type": "markdown",
   "metadata": {},
   "source": [
    "## Plotting"
   ]
  },
  {
   "cell_type": "markdown",
   "metadata": {},
   "source": [
    "Plotting fission yields as a function of mass or charge can be cumbersome with the current information available in a `sandy.Fy` instance.\n",
    "In fact, to do so columns ZAM or ZAP should be *expanded* to their source components Z, A, M, where Z is the charge number, A is the number of nucleons and M is the metastate number.\n",
    "\n",
    "Here we introduce two new methods that do exactly what required: `._expand_zap` and `._expand_zam`.\n",
    "\n",
    "The first method returns a copy a of the `.data` attribute with three extra columns: the Z, A and M of the fission product.\n",
    "The second method returns a copy a of the `.data` attribute with three extra columns: the Z, A and M of the fissioning nuclide."
   ]
  },
  {
   "cell_type": "markdown",
   "metadata": {},
   "source": [
    "> Methods `._expand_zap` and `._expand_zam` return a `pd.DataFrame` and not a `sandy.Fy` instance."
   ]
  },
  {
   "cell_type": "code",
   "execution_count": 12,
   "metadata": {},
   "outputs": [
    {
     "data": {
      "text/html": [
       "<div>\n",
       "<style scoped>\n",
       "    .dataframe tbody tr th:only-of-type {\n",
       "        vertical-align: middle;\n",
       "    }\n",
       "\n",
       "    .dataframe tbody tr th {\n",
       "        vertical-align: top;\n",
       "    }\n",
       "\n",
       "    .dataframe thead th {\n",
       "        text-align: right;\n",
       "    }\n",
       "</style>\n",
       "<table border=\"1\" class=\"dataframe\">\n",
       "  <thead>\n",
       "    <tr style=\"text-align: right;\">\n",
       "      <th></th>\n",
       "      <th>MAT</th>\n",
       "      <th>MT</th>\n",
       "      <th>ZAM</th>\n",
       "      <th>ZAP</th>\n",
       "      <th>E</th>\n",
       "      <th>FY</th>\n",
       "      <th>Z</th>\n",
       "      <th>A</th>\n",
       "      <th>M</th>\n",
       "    </tr>\n",
       "  </thead>\n",
       "  <tbody>\n",
       "    <tr>\n",
       "      <th>0</th>\n",
       "      <td>9228</td>\n",
       "      <td>459</td>\n",
       "      <td>922350</td>\n",
       "      <td>10010</td>\n",
       "      <td>2.53000e-02</td>\n",
       "      <td>1.71100e-05</td>\n",
       "      <td>1</td>\n",
       "      <td>1</td>\n",
       "      <td>0</td>\n",
       "    </tr>\n",
       "    <tr>\n",
       "      <th>1</th>\n",
       "      <td>9228</td>\n",
       "      <td>459</td>\n",
       "      <td>922350</td>\n",
       "      <td>10020</td>\n",
       "      <td>2.53000e-02</td>\n",
       "      <td>8.40000e-06</td>\n",
       "      <td>1</td>\n",
       "      <td>2</td>\n",
       "      <td>0</td>\n",
       "    </tr>\n",
       "    <tr>\n",
       "      <th>2</th>\n",
       "      <td>9228</td>\n",
       "      <td>459</td>\n",
       "      <td>922350</td>\n",
       "      <td>10030</td>\n",
       "      <td>2.53000e-02</td>\n",
       "      <td>1.08000e-04</td>\n",
       "      <td>1</td>\n",
       "      <td>3</td>\n",
       "      <td>0</td>\n",
       "    </tr>\n",
       "    <tr>\n",
       "      <th>3</th>\n",
       "      <td>9228</td>\n",
       "      <td>459</td>\n",
       "      <td>922350</td>\n",
       "      <td>20030</td>\n",
       "      <td>2.53000e-02</td>\n",
       "      <td>1.08000e-04</td>\n",
       "      <td>2</td>\n",
       "      <td>3</td>\n",
       "      <td>0</td>\n",
       "    </tr>\n",
       "    <tr>\n",
       "      <th>4</th>\n",
       "      <td>9228</td>\n",
       "      <td>459</td>\n",
       "      <td>922350</td>\n",
       "      <td>20040</td>\n",
       "      <td>2.53000e-02</td>\n",
       "      <td>1.70210e-03</td>\n",
       "      <td>2</td>\n",
       "      <td>4</td>\n",
       "      <td>0</td>\n",
       "    </tr>\n",
       "  </tbody>\n",
       "</table>\n",
       "</div>"
      ],
      "text/plain": [
       "    MAT   MT     ZAM    ZAP           E          FY  Z  A  M\n",
       "0  9228  459  922350  10010 2.53000e-02 1.71100e-05  1  1  0\n",
       "1  9228  459  922350  10020 2.53000e-02 8.40000e-06  1  2  0\n",
       "2  9228  459  922350  10030 2.53000e-02 1.08000e-04  1  3  0\n",
       "3  9228  459  922350  20030 2.53000e-02 1.08000e-04  2  3  0\n",
       "4  9228  459  922350  20040 2.53000e-02 1.70210e-03  2  4  0"
      ]
     },
     "execution_count": 12,
     "metadata": {},
     "output_type": "execute_result"
    }
   ],
   "source": [
    "cfyU235._expand_zap().head()"
   ]
  },
  {
   "cell_type": "code",
   "execution_count": 13,
   "metadata": {},
   "outputs": [
    {
     "data": {
      "image/png": "[encoded data removed]",
      "text/plain": [
       "<Figure size 720x360 with 2 Axes>"
      ]
     },
     "metadata": {
      "needs_background": "light"
     },
     "output_type": "display_data"
    }
   ],
   "source": [
    "fig, ax = plt.subplots(1,2, figsize=(10, 5))\n",
    "ax[0] = sns.scatterplot(x=\"A\", y=\"FY\", data=cfyU235._expand_zap(), ax=ax[0])\n",
    "ax[1] = sns.scatterplot(x=\"Z\", y=\"FY\", data=cfyU235._expand_zap(), ax=ax[1])\n",
    "\n",
    "ax[0].set_title(\"by mass\")\n",
    "ax[1].set_title(\"by charge\")\n",
    "\n",
    "plt.tight_layout();"
   ]
  },
  {
   "cell_type": "code",
   "execution_count": 14,
   "metadata": {},
   "outputs": [
    {
     "data": {
      "text/html": [
       "<div>\n",
       "<style scoped>\n",
       "    .dataframe tbody tr th:only-of-type {\n",
       "        vertical-align: middle;\n",
       "    }\n",
       "\n",
       "    .dataframe tbody tr th {\n",
       "        vertical-align: top;\n",
       "    }\n",
       "\n",
       "    .dataframe thead th {\n",
       "        text-align: right;\n",
       "    }\n",
       "</style>\n",
       "<table border=\"1\" class=\"dataframe\">\n",
       "  <thead>\n",
       "    <tr style=\"text-align: right;\">\n",
       "      <th></th>\n",
       "      <th>MAT</th>\n",
       "      <th>MT</th>\n",
       "      <th>ZAM</th>\n",
       "      <th>ZAP</th>\n",
       "      <th>E</th>\n",
       "      <th>FY</th>\n",
       "      <th>Z</th>\n",
       "      <th>A</th>\n",
       "      <th>M</th>\n",
       "    </tr>\n",
       "  </thead>\n",
       "  <tbody>\n",
       "    <tr>\n",
       "      <th>0</th>\n",
       "      <td>9222</td>\n",
       "      <td>459</td>\n",
       "      <td>922330</td>\n",
       "      <td>551370</td>\n",
       "      <td>2.53000e-02</td>\n",
       "      <td>6.26070e-02</td>\n",
       "      <td>92</td>\n",
       "      <td>233</td>\n",
       "      <td>0</td>\n",
       "    </tr>\n",
       "    <tr>\n",
       "      <th>1</th>\n",
       "      <td>9228</td>\n",
       "      <td>459</td>\n",
       "      <td>922350</td>\n",
       "      <td>551370</td>\n",
       "      <td>2.53000e-02</td>\n",
       "      <td>6.08970e-02</td>\n",
       "      <td>92</td>\n",
       "      <td>235</td>\n",
       "      <td>0</td>\n",
       "    </tr>\n",
       "    <tr>\n",
       "      <th>2</th>\n",
       "      <td>9231</td>\n",
       "      <td>459</td>\n",
       "      <td>922360</td>\n",
       "      <td>551370</td>\n",
       "      <td>2.53000e-02</td>\n",
       "      <td>6.08310e-02</td>\n",
       "      <td>92</td>\n",
       "      <td>236</td>\n",
       "      <td>0</td>\n",
       "    </tr>\n",
       "    <tr>\n",
       "      <th>3</th>\n",
       "      <td>9346</td>\n",
       "      <td>459</td>\n",
       "      <td>932370</td>\n",
       "      <td>551370</td>\n",
       "      <td>2.53000e-02</td>\n",
       "      <td>7.03340e-02</td>\n",
       "      <td>93</td>\n",
       "      <td>237</td>\n",
       "      <td>0</td>\n",
       "    </tr>\n",
       "    <tr>\n",
       "      <th>4</th>\n",
       "      <td>9349</td>\n",
       "      <td>459</td>\n",
       "      <td>932380</td>\n",
       "      <td>551370</td>\n",
       "      <td>2.53000e-02</td>\n",
       "      <td>7.09050e-02</td>\n",
       "      <td>93</td>\n",
       "      <td>238</td>\n",
       "      <td>0</td>\n",
       "    </tr>\n",
       "  </tbody>\n",
       "</table>\n",
       "</div>"
      ],
      "text/plain": [
       "    MAT   MT     ZAM     ZAP           E          FY   Z    A  M\n",
       "0  9222  459  922330  551370 2.53000e-02 6.26070e-02  92  233  0\n",
       "1  9228  459  922350  551370 2.53000e-02 6.08970e-02  92  235  0\n",
       "2  9231  459  922360  551370 2.53000e-02 6.08310e-02  92  236  0\n",
       "3  9346  459  932370  551370 2.53000e-02 7.03340e-02  93  237  0\n",
       "4  9349  459  932380  551370 2.53000e-02 7.09050e-02  93  238  0"
      ]
     },
     "execution_count": 14,
     "metadata": {},
     "output_type": "execute_result"
    }
   ],
   "source": [
    "cfyCs137._expand_zam().head()"
   ]
  },
  {
   "cell_type": "code",
   "execution_count": 15,
   "metadata": {},
   "outputs": [
    {
     "data": {
      "image/png": "[encoded data removed]",
      "text/plain": [
       "<Figure size 720x360 with 2 Axes>"
      ]
     },
     "metadata": {
      "needs_background": "light"
     },
     "output_type": "display_data"
    }
   ],
   "source": [
    "fig, ax = plt.subplots(1, 2, figsize=(10, 5), sharey=True)\n",
    "\n",
    "ax[0] = sns.scatterplot(x=\"A\", y=\"FY\", data=cfyCs137._expand_zam(), ax=ax[0])\n",
    "ax[0].set_title(\"by mass\")\n",
    "\n",
    "ax[1] = sns.scatterplot(x=\"Z\", y=\"FY\", data=cfyCs137._expand_zam(), ax=ax[1])\n",
    "ax[1].set_title(\"by charge\")\n",
    "\n",
    "plt.tight_layout();"
   ]
  },
  {
   "cell_type": "markdown",
   "metadata": {},
   "source": [
    "## Tabulated fission yields as a function of energy"
   ]
  },
  {
   "cell_type": "markdown",
   "metadata": {},
   "source": [
    "It is sometimes important to have access to the fission yield data (either cumulaitve or independent, not both) as a tabulated function of energy.\n",
    "This can be done by calling method `.energy_table` where the fissioning nuclide is specified as an argument either as a ZAM or MAT number. "
   ]
  },
  {
   "cell_type": "markdown",
   "metadata": {},
   "source": [
    "Below we report an example for the cumulative yields of U-235."
   ]
  },
  {
   "cell_type": "code",
   "execution_count": 16,
   "metadata": {},
   "outputs": [
    {
     "data": {
      "text/html": [
       "<div>\n",
       "<style scoped>\n",
       "    .dataframe tbody tr th:only-of-type {\n",
       "        vertical-align: middle;\n",
       "    }\n",
       "\n",
       "    .dataframe tbody tr th {\n",
       "        vertical-align: top;\n",
       "    }\n",
       "\n",
       "    .dataframe thead th {\n",
       "        text-align: right;\n",
       "    }\n",
       "</style>\n",
       "<table border=\"1\" class=\"dataframe\">\n",
       "  <thead>\n",
       "    <tr style=\"text-align: right;\">\n",
       "      <th>ZAP</th>\n",
       "      <th>10010</th>\n",
       "      <th>10020</th>\n",
       "      <th>10030</th>\n",
       "      <th>20030</th>\n",
       "      <th>20040</th>\n",
       "      <th>20060</th>\n",
       "      <th>30060</th>\n",
       "      <th>30080</th>\n",
       "      <th>30090</th>\n",
       "      <th>40080</th>\n",
       "      <th>...</th>\n",
       "      <th>761940</th>\n",
       "      <th>761950</th>\n",
       "      <th>771910</th>\n",
       "      <th>771911</th>\n",
       "      <th>771930</th>\n",
       "      <th>771940</th>\n",
       "      <th>771950</th>\n",
       "      <th>771951</th>\n",
       "      <th>781940</th>\n",
       "      <th>781950</th>\n",
       "    </tr>\n",
       "    <tr>\n",
       "      <th>E</th>\n",
       "      <th></th>\n",
       "      <th></th>\n",
       "      <th></th>\n",
       "      <th></th>\n",
       "      <th></th>\n",
       "      <th></th>\n",
       "      <th></th>\n",
       "      <th></th>\n",
       "      <th></th>\n",
       "      <th></th>\n",
       "      <th></th>\n",
       "      <th></th>\n",
       "      <th></th>\n",
       "      <th></th>\n",
       "      <th></th>\n",
       "      <th></th>\n",
       "      <th></th>\n",
       "      <th></th>\n",
       "      <th></th>\n",
       "      <th></th>\n",
       "      <th></th>\n",
       "    </tr>\n",
       "  </thead>\n",
       "  <tbody>\n",
       "    <tr>\n",
       "      <th>2.53000e-02</th>\n",
       "      <td>1.71100e-05</td>\n",
       "      <td>8.40000e-06</td>\n",
       "      <td>1.08000e-04</td>\n",
       "      <td>1.08000e-04</td>\n",
       "      <td>1.70210e-03</td>\n",
       "      <td>2.66800e-05</td>\n",
       "      <td>2.66800e-05</td>\n",
       "      <td>7.29200e-07</td>\n",
       "      <td>4.07100e-07</td>\n",
       "      <td>1.34180e-06</td>\n",
       "      <td>...</td>\n",
       "      <td>0.00000e+00</td>\n",
       "      <td>0.00000e+00</td>\n",
       "      <td>0.00000e+00</td>\n",
       "      <td>0.00000e+00</td>\n",
       "      <td>0.00000e+00</td>\n",
       "      <td>0.00000e+00</td>\n",
       "      <td>0.00000e+00</td>\n",
       "      <td>0.00000e+00</td>\n",
       "      <td>0.00000e+00</td>\n",
       "      <td>0.00000e+00</td>\n",
       "    </tr>\n",
       "    <tr>\n",
       "      <th>4.00000e+05</th>\n",
       "      <td>2.68910e-05</td>\n",
       "      <td>8.21820e-06</td>\n",
       "      <td>1.08000e-04</td>\n",
       "      <td>1.08000e-04</td>\n",
       "      <td>1.70000e-03</td>\n",
       "      <td>0.00000e+00</td>\n",
       "      <td>0.00000e+00</td>\n",
       "      <td>0.00000e+00</td>\n",
       "      <td>0.00000e+00</td>\n",
       "      <td>0.00000e+00</td>\n",
       "      <td>...</td>\n",
       "      <td>0.00000e+00</td>\n",
       "      <td>0.00000e+00</td>\n",
       "      <td>0.00000e+00</td>\n",
       "      <td>0.00000e+00</td>\n",
       "      <td>0.00000e+00</td>\n",
       "      <td>0.00000e+00</td>\n",
       "      <td>0.00000e+00</td>\n",
       "      <td>0.00000e+00</td>\n",
       "      <td>0.00000e+00</td>\n",
       "      <td>0.00000e+00</td>\n",
       "    </tr>\n",
       "    <tr>\n",
       "      <th>1.40000e+07</th>\n",
       "      <td>2.63690e-05</td>\n",
       "      <td>8.05870e-06</td>\n",
       "      <td>1.74200e-04</td>\n",
       "      <td>1.74200e-04</td>\n",
       "      <td>1.66700e-03</td>\n",
       "      <td>0.00000e+00</td>\n",
       "      <td>0.00000e+00</td>\n",
       "      <td>0.00000e+00</td>\n",
       "      <td>0.00000e+00</td>\n",
       "      <td>0.00000e+00</td>\n",
       "      <td>...</td>\n",
       "      <td>3.31630e-12</td>\n",
       "      <td>1.04300e-12</td>\n",
       "      <td>1.94260e-11</td>\n",
       "      <td>9.16910e-12</td>\n",
       "      <td>6.63920e-12</td>\n",
       "      <td>3.31630e-12</td>\n",
       "      <td>1.40570e-12</td>\n",
       "      <td>1.35380e-12</td>\n",
       "      <td>3.31630e-12</td>\n",
       "      <td>2.69180e-12</td>\n",
       "    </tr>\n",
       "  </tbody>\n",
       "</table>\n",
       "<p>3 rows × 1205 columns</p>\n",
       "</div>"
      ],
      "text/plain": [
       "ZAP              10010       10020       10030       20030       20040   \\\n",
       "E                                                                         \n",
       "2.53000e-02 1.71100e-05 8.40000e-06 1.08000e-04 1.08000e-04 1.70210e-03   \n",
       "4.00000e+05 2.68910e-05 8.21820e-06 1.08000e-04 1.08000e-04 1.70000e-03   \n",
       "1.40000e+07 2.63690e-05 8.05870e-06 1.74200e-04 1.74200e-04 1.66700e-03   \n",
       "\n",
       "ZAP              20060       30060       30080       30090       40080   ...  \\\n",
       "E                                                                        ...   \n",
       "2.53000e-02 2.66800e-05 2.66800e-05 7.29200e-07 4.07100e-07 1.34180e-06  ...   \n",
       "4.00000e+05 0.00000e+00 0.00000e+00 0.00000e+00 0.00000e+00 0.00000e+00  ...   \n",
       "1.40000e+07 0.00000e+00 0.00000e+00 0.00000e+00 0.00000e+00 0.00000e+00  ...   \n",
       "\n",
       "ZAP              761940      761950      771910      771911      771930  \\\n",
       "E                                                                         \n",
       "2.53000e-02 0.00000e+00 0.00000e+00 0.00000e+00 0.00000e+00 0.00000e+00   \n",
       "4.00000e+05 0.00000e+00 0.00000e+00 0.00000e+00 0.00000e+00 0.00000e+00   \n",
       "1.40000e+07 3.31630e-12 1.04300e-12 1.94260e-11 9.16910e-12 6.63920e-12   \n",
       "\n",
       "ZAP              771940      771950      771951      781940      781950  \n",
       "E                                                                        \n",
       "2.53000e-02 0.00000e+00 0.00000e+00 0.00000e+00 0.00000e+00 0.00000e+00  \n",
       "4.00000e+05 0.00000e+00 0.00000e+00 0.00000e+00 0.00000e+00 0.00000e+00  \n",
       "1.40000e+07 3.31630e-12 1.40570e-12 1.35380e-12 3.31630e-12 2.69180e-12  \n",
       "\n",
       "[3 rows x 1205 columns]"
      ]
     },
     "execution_count": 16,
     "metadata": {},
     "output_type": "execute_result"
    }
   ],
   "source": [
    "fy.energy_table(922350, by=\"ZAM\", kind=\"cumulative\")"
   ]
  },
  {
   "cell_type": "markdown",
   "metadata": {},
   "source": [
    "## Write to HDF5 file"
   ]
  },
  {
   "cell_type": "markdown",
   "metadata": {},
   "source": [
    "Codes like ALEPH read fission yields from nuclear data files in HDF5 format.\n",
    "To produce such files we can use `sandy` and method `Fy.to_hdf5`, which extracts and stores energy tables for each set of fission yields found in the `Fy` object."
   ]
  },
  {
   "cell_type": "markdown",
   "metadata": {},
   "source": [
    "As an example, we can transfer the whole content of the `fy` instance to a HDF5 file `'fy.hdf5'`."
   ]
  },
  {
   "cell_type": "code",
   "execution_count": 17,
   "metadata": {},
   "outputs": [],
   "source": [
    "file = 'fy.hdf5'\n",
    "if os.path.exists(file):\n",
    "    os.remove(file)\n",
    "fy.to_hdf5(file, \"jeff_33\");"
   ]
  },
  {
   "cell_type": "markdown",
   "metadata": {},
   "source": [
    "The group key for each set of fission yields is `\"library/fy/kind/zam\"`, where\n",
    "- library: is the lowercase name of the library\n",
    "- fy: is the key \"fy\"\n",
    "- kind: is either \"independent\" or \"cumulative\"\n",
    "- zam: is the ZAM number of the parent nuclide"
   ]
  },
  {
   "cell_type": "markdown",
   "metadata": {},
   "source": [
    "> The energy values in the HDF5 file are converted into MeV."
   ]
  },
  {
   "cell_type": "code",
   "execution_count": 18,
   "metadata": {},
   "outputs": [
    {
     "data": {
      "text/html": [
       "<div>\n",
       "<style scoped>\n",
       "    .dataframe tbody tr th:only-of-type {\n",
       "        vertical-align: middle;\n",
       "    }\n",
       "\n",
       "    .dataframe tbody tr th {\n",
       "        vertical-align: top;\n",
       "    }\n",
       "\n",
       "    .dataframe thead th {\n",
       "        text-align: right;\n",
       "    }\n",
       "</style>\n",
       "<table border=\"1\" class=\"dataframe\">\n",
       "  <thead>\n",
       "    <tr style=\"text-align: right;\">\n",
       "      <th>ZAP</th>\n",
       "      <th>10010</th>\n",
       "      <th>10020</th>\n",
       "      <th>10030</th>\n",
       "      <th>20030</th>\n",
       "      <th>20040</th>\n",
       "      <th>190500</th>\n",
       "      <th>190510</th>\n",
       "      <th>200500</th>\n",
       "      <th>200510</th>\n",
       "      <th>200520</th>\n",
       "      <th>...</th>\n",
       "      <th>761930</th>\n",
       "      <th>761940</th>\n",
       "      <th>761950</th>\n",
       "      <th>771910</th>\n",
       "      <th>771911</th>\n",
       "      <th>771930</th>\n",
       "      <th>771940</th>\n",
       "      <th>771950</th>\n",
       "      <th>781940</th>\n",
       "      <th>781950</th>\n",
       "    </tr>\n",
       "    <tr>\n",
       "      <th>E</th>\n",
       "      <th></th>\n",
       "      <th></th>\n",
       "      <th></th>\n",
       "      <th></th>\n",
       "      <th></th>\n",
       "      <th></th>\n",
       "      <th></th>\n",
       "      <th></th>\n",
       "      <th></th>\n",
       "      <th></th>\n",
       "      <th></th>\n",
       "      <th></th>\n",
       "      <th></th>\n",
       "      <th></th>\n",
       "      <th></th>\n",
       "      <th></th>\n",
       "      <th></th>\n",
       "      <th></th>\n",
       "      <th></th>\n",
       "      <th></th>\n",
       "      <th></th>\n",
       "    </tr>\n",
       "  </thead>\n",
       "  <tbody>\n",
       "    <tr>\n",
       "      <th>4.00000e-01</th>\n",
       "      <td>2.35370e-05</td>\n",
       "      <td>7.19320e-06</td>\n",
       "      <td>1.02620e-04</td>\n",
       "      <td>1.02620e-04</td>\n",
       "      <td>1.48800e-03</td>\n",
       "      <td>0.00000e+00</td>\n",
       "      <td>0.00000e+00</td>\n",
       "      <td>0.00000e+00</td>\n",
       "      <td>0.00000e+00</td>\n",
       "      <td>0.00000e+00</td>\n",
       "      <td>...</td>\n",
       "      <td>0.00000e+00</td>\n",
       "      <td>0.00000e+00</td>\n",
       "      <td>0.00000e+00</td>\n",
       "      <td>0.00000e+00</td>\n",
       "      <td>0.00000e+00</td>\n",
       "      <td>0.00000e+00</td>\n",
       "      <td>0.00000e+00</td>\n",
       "      <td>0.00000e+00</td>\n",
       "      <td>0.00000e+00</td>\n",
       "      <td>0.00000e+00</td>\n",
       "    </tr>\n",
       "    <tr>\n",
       "      <th>1.40000e+01</th>\n",
       "      <td>1.30120e-05</td>\n",
       "      <td>3.97660e-06</td>\n",
       "      <td>6.49900e-05</td>\n",
       "      <td>6.49900e-05</td>\n",
       "      <td>8.22600e-04</td>\n",
       "      <td>2.14670e-12</td>\n",
       "      <td>1.16000e-12</td>\n",
       "      <td>2.85210e-11</td>\n",
       "      <td>2.28820e-11</td>\n",
       "      <td>2.47380e-11</td>\n",
       "      <td>...</td>\n",
       "      <td>3.79010e-12</td>\n",
       "      <td>2.95410e-12</td>\n",
       "      <td>1.00010e-12</td>\n",
       "      <td>1.31880e-11</td>\n",
       "      <td>6.22490e-12</td>\n",
       "      <td>3.79010e-12</td>\n",
       "      <td>2.95410e-12</td>\n",
       "      <td>1.00010e-12</td>\n",
       "      <td>2.95410e-12</td>\n",
       "      <td>1.00010e-12</td>\n",
       "    </tr>\n",
       "  </tbody>\n",
       "</table>\n",
       "<p>2 rows × 1147 columns</p>\n",
       "</div>"
      ],
      "text/plain": [
       "ZAP              10010       10020       10030       20030       20040   \\\n",
       "E                                                                         \n",
       "4.00000e-01 2.35370e-05 7.19320e-06 1.02620e-04 1.02620e-04 1.48800e-03   \n",
       "1.40000e+01 1.30120e-05 3.97660e-06 6.49900e-05 6.49900e-05 8.22600e-04   \n",
       "\n",
       "ZAP              190500      190510      200500      200510      200520  ...  \\\n",
       "E                                                                        ...   \n",
       "4.00000e-01 0.00000e+00 0.00000e+00 0.00000e+00 0.00000e+00 0.00000e+00  ...   \n",
       "1.40000e+01 2.14670e-12 1.16000e-12 2.85210e-11 2.28820e-11 2.47380e-11  ...   \n",
       "\n",
       "ZAP              761930      761940      761950      771910      771911  \\\n",
       "E                                                                         \n",
       "4.00000e-01 0.00000e+00 0.00000e+00 0.00000e+00 0.00000e+00 0.00000e+00   \n",
       "1.40000e+01 3.79010e-12 2.95410e-12 1.00010e-12 1.31880e-11 6.22490e-12   \n",
       "\n",
       "ZAP              771930      771940      771950      781940      781950  \n",
       "E                                                                        \n",
       "4.00000e-01 0.00000e+00 0.00000e+00 0.00000e+00 0.00000e+00 0.00000e+00  \n",
       "1.40000e+01 3.79010e-12 2.95410e-12 1.00010e-12 2.95410e-12 1.00010e-12  \n",
       "\n",
       "[2 rows x 1147 columns]"
      ]
     },
     "execution_count": 18,
     "metadata": {},
     "output_type": "execute_result"
    }
   ],
   "source": [
    "pd.read_hdf(file, key='jeff_33/fy/cumulative/922380')"
   ]
  },
  {
   "cell_type": "markdown",
   "metadata": {},
   "source": [
    "## Apply custom perturbations"
   ]
  },
  {
   "cell_type": "markdown",
   "metadata": {},
   "source": [
    "to be written"
   ]
  }
 ],
 "metadata": {
  "kernelspec": {
   "display_name": "Python (aleph-test)",
   "language": "python",
   "name": "aleph-test"
  },
  "language_info": {
   "codemirror_mode": {
    "name": "ipython",
    "version": 3
   },
   "file_extension": ".py",
   "mimetype": "text/x-python",
   "name": "python",
   "nbconvert_exporter": "python",
   "pygments_lexer": "ipython3",
   "version": "3.7.8"
  }
 },
 "nbformat": 4,
 "nbformat_minor": 2
}
