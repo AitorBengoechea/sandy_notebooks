{
 "cells": [
  {
   "cell_type": "markdown",
   "metadata": {},
   "source": [
    "# Interact with fission product yields in ENDF-6 format (MF=8, MT=454/459)"
   ]
  },
  {
   "cell_type": "markdown",
   "metadata": {},
   "source": [
    "First let's import `sandy` and the other python packages for formatting and postprocessing that are used in this notebook."
   ]
  },
  {
   "cell_type": "code",
   "execution_count": 1,
   "metadata": {},
   "outputs": [],
   "source": [
    "import yaml\n",
    "import urllib\n",
    "import os\n",
    "\n",
    "import pandas as pd"
   ]
  },
  {
   "cell_type": "code",
   "execution_count": 2,
   "metadata": {},
   "outputs": [],
   "source": [
    "import sandy"
   ]
  },
  {
   "cell_type": "code",
   "execution_count": 3,
   "metadata": {},
   "outputs": [],
   "source": [
    "import matplotlib.pyplot as plt\n",
    "import seaborn as sns\n",
    "\n",
    "sns.set_context(\"notebook\")\n",
    "sns.set_style(\"whitegrid\")\n",
    "\n",
    "%matplotlib inline"
   ]
  },
  {
   "cell_type": "code",
   "execution_count": 4,
   "metadata": {},
   "outputs": [],
   "source": [
    "%load_ext autoreload\n",
    "%autoreload 2"
   ]
  },
  {
   "cell_type": "markdown",
   "metadata": {},
   "source": [
    "## Parsing the data in ENDF-6 format"
   ]
  },
  {
   "cell_type": "markdown",
   "metadata": {},
   "source": [
    "The first thing that we want to do with an evaluated nuclear data  file in ENDF-6 format is to load its content into python using `sandy`.\n",
    "By calling `sandy.Endf6.from_file`, the ENDF-6 file is parsed and its content is split into text sections, each of them indexed by a unique combination of MAT, MF and MT numbers. "
   ]
  },
  {
   "cell_type": "markdown",
   "metadata": {},
   "source": [
    "Below we report an example using the JEFF-3.3 fission yield evaluated file available on the [OECD/NEA website](https://www.oecd-nea.org/dbdata/jeff/jeff33/index.html).\n",
    "The file content is loaded into the `Endf6` instance that we name `tape`."
   ]
  },
  {
   "cell_type": "code",
   "execution_count": 5,
   "metadata": {},
   "outputs": [],
   "source": [
    "url = \"https://www.oecd-nea.org/dbdata/jeff/jeff33/downloads/JEFF33-nfy.asc\"\n",
    "with urllib.request.urlopen(url) as f:\n",
    "    text_fy = f.read().decode('utf-8')"
   ]
  },
  {
   "cell_type": "code",
   "execution_count": 6,
   "metadata": {},
   "outputs": [],
   "source": [
    "%%capture\n",
    "tape = sandy.Endf6.from_text(text_fy)"
   ]
  },
  {
   "cell_type": "code",
   "execution_count": 7,
   "metadata": {},
   "outputs": [
    {
     "data": {
      "text/plain": [
       "MAT   MF  MT \n",
       "9040  1   451     9.023200+4 2.300450+2         -1          1  ...\n",
       "      8   454     9.023200+4 2.300450+2          2          0  ...\n",
       "          459     9.023200+4 2.300450+2          2          0  ...\n",
       "9222  1   451     9.223300+4 2.310380+2         -1          1  ...\n",
       "      8   454     9.223300+4 2.310380+2          3          0  ...\n",
       "          459     9.223300+4 2.310380+2          3          0  ...\n",
       "9225  1   451     9.223400+4 2.320300+2         -1          1  ...\n",
       "      8   454     9.223400+4 2.320300+2          1          0  ...\n",
       "          459     9.223400+4 2.320300+2          1          0  ...\n",
       "9228  1   451     9.223500+4 2.330250+2         -1          1  ...\n",
       "      8   454     9.223500+4 2.330250+2          3          0  ...\n",
       "          459     9.223500+4 2.330250+2          3          0  ...\n",
       "9231  1   451     9.223600+4 2.340180+2         -1          1  ...\n",
       "      8   454     9.223600+4 2.340180+2          2          0  ...\n",
       "          459     9.223600+4 2.340180+2          2          0  ...\n",
       "9237  1   451     9.223800+4 2.360060+2         -1          1  ...\n",
       "      8   454     9.223800+4 2.360060+2          2          0  ...\n",
       "          459     9.223800+4 2.360060+2          2          0  ...\n",
       "9346  1   451     9.323700+4 2.350120+2         -1          1  ...\n",
       "      8   454     9.323700+4 2.350120+2          2          0  ...\n",
       "          459     9.323700+4 2.350120+2          2          0  ...\n",
       "9349  1   451     9.323800+4 2.360060+2         -1          1  ...\n",
       "      8   454     9.323800+4 2.360060+2          2          0  ...\n",
       "          459     9.323800+4 2.360060+2          2          0  ...\n",
       "9434  1   451     9.423800+4 2.360050+2         -1          1  ...\n",
       "      8   454     9.423800+4 2.360050+2          2          0  ...\n",
       "          459     9.423800+4 2.360050+2          2          0  ...\n",
       "9437  1   451     9.423900+4 2.369990+2         -1          1  ...\n",
       "      8   454     9.423900+4 2.369990+2          2          0  ...\n",
       "          459     9.423900+4 2.369990+2          2          0  ...\n",
       "9440  1   451     9.424000+4 2.379920+2         -1          1  ...\n",
       "      8   454     9.424000+4 2.379920+2          1          0  ...\n",
       "          459     9.424000+4 2.379920+2          1          0  ...\n",
       "9443  1   451     9.424100+4 2.389860+2         -1          1  ...\n",
       "      8   454     9.424100+4 2.389860+2          2          0  ...\n",
       "          459     9.424100+4 2.389860+2          2          0  ...\n",
       "9446  1   451     9.424200+4 2.399790+2         -1          1  ...\n",
       "      8   454     9.424200+4 2.399790+2          1          0  ...\n",
       "          459     9.424200+4 2.399790+2          1          0  ...\n",
       "9543  1   451     9.524100+4 2.389860+2         -1          1  ...\n",
       "      8   454     9.524100+4 2.389860+2          2          0  ...\n",
       "          459     9.524100+4 2.389860+2          2          0  ...\n",
       "9547  1   451     9.524200+4 2.399800+2         -1          1  ...\n",
       "      8   454     9.524200+4 2.399800+2          2          0  ...\n",
       "          459     9.524200+4 2.399800+2          2          0  ...\n",
       "9549  1   451     9.524300+4 2.409730+2         -1          1  ...\n",
       "      8   454     9.524300+4 2.409730+2          2          0  ...\n",
       "          459     9.524300+4 2.409730+2          2          0  ...\n",
       "9634  1   451     9.624300+4 2.409730+2         -1          1  ...\n",
       "      8   454     9.624300+4 2.409730+2          2          0  ...\n",
       "          459     9.624300+4 2.409730+2          2          0  ...\n",
       "9637  1   451     9.624400+4 2.419040+2         -1          1  ...\n",
       "      8   454     9.624400+4 2.419040+2          2          0  ...\n",
       "          459     9.624400+4 2.419040+2          2          0  ...\n",
       "9640  1   451     9.624500+4 2.429600+2         -1          1  ...\n",
       "      8   454     9.624500+4 2.429600+2          2          0  ...\n",
       "          459     9.624500+4 2.429600+2          2          0  ...\n",
       "dtype: object"
      ]
     },
     "execution_count": 7,
     "metadata": {},
     "output_type": "execute_result"
    }
   ],
   "source": [
    "tape"
   ]
  },
  {
   "cell_type": "markdown",
   "metadata": {},
   "source": [
    "Now, the information available in each `(MAT,MF,MT)` section in ASCII format can be extracted using method `.read_section`, \n",
    "as shown below.\n",
    "\n",
    "> Recall that MF=8 MT=454 are the indices for independent fission yields, MF=8 MT=459 for cumulative fission yields"
   ]
  },
  {
   "cell_type": "code",
   "execution_count": 8,
   "metadata": {},
   "outputs": [],
   "source": [
    "mat = 9437  # This is Pu-239\n",
    "mf = 8\n",
    "mt = 454\n",
    "\n",
    "section = tape.read_section(mat, mf, mt)"
   ]
  },
  {
   "cell_type": "markdown",
   "metadata": {},
   "source": [
    "For a better visualization of the FY data structure generated by `.read_section` we resort to the `yaml` package and we print only the first 11 lines."
   ]
  },
  {
   "cell_type": "code",
   "execution_count": 9,
   "metadata": {},
   "outputs": [
    {
     "name": "stdout",
     "output_type": "stream",
     "text": [
      "AWR: 236.999\n",
      "E:\n",
      "  0.0253:\n",
      "    INTERP: 1\n",
      "    ZAP:\n",
      "      10010:\n",
      "        DFY: 7.052699999999999e-06\n",
      "        FY: 4.08e-05\n",
      "      10020:\n",
      "        DFY: 2.8929000000000003e-06\n",
      "        FY: 1.347e-05\n"
     ]
    }
   ],
   "source": [
    "print(\"\\n\".join(yaml.dump(section).splitlines()[:11]))"
   ]
  },
  {
   "cell_type": "markdown",
   "metadata": {},
   "source": [
    "The data contained in the ENDF-6 section are stored in nested dictionaries, \n",
    "according to the following structure that tries and replicate the ENDF-6 hierarchy."
   ]
  },
  {
   "cell_type": "markdown",
   "metadata": {},
   "source": [
    "```yaml\n",
    "    AWR : atomic weight ratio\n",
    "    E :   # dictionary of tabulated energies at which fission yields are given\n",
    "        energy :  # energy of the neutron causing fission (eV)\n",
    "            INTERP : interpolation scheme between this and the following energy point\n",
    "            ZAP :   # dictionary of fission products\n",
    "                Z*1000 + A*10 + M :\n",
    "                    FY : fission yield (fraction)\n",
    "                    DFY : uncertainty on fission yield (same unit as FY)\n",
    "                Z2*1000 + A2*10 + M2 : ...\n",
    "        energy_2 : ...\n",
    "```"
   ]
  },
  {
   "cell_type": "markdown",
   "metadata": {},
   "source": [
    "## Create a `sandy.Fy` object"
   ]
  },
  {
   "cell_type": "markdown",
   "metadata": {},
   "source": [
    "Class `sandy.Fy` was developed to store and process fission yield data.\n",
    "\n",
    "The ASCII content in a `sandy.Endf6` instance can be directly imported into a `sandy.Fy` instance using \n",
    "classmethod `.from_endf6`, where the `sandy.Endf6` object is passed as an argument."
   ]
  },
  {
   "cell_type": "code",
   "execution_count": null,
   "metadata": {},
   "outputs": [],
   "source": [
    "fy = sandy.Fy.from_endf6(tape)\n",
    "fy"
   ]
  },
  {
   "cell_type": "markdown",
   "metadata": {},
   "source": [
    "The `pd.DataFrame` containing the source data is stored in attribute `.data`, which contains fission yields FY together with the corresponding:\n",
    "- MAT\n",
    "- MT\n",
    "- ZAM\n",
    "- ZAP\n",
    "- E\n",
    "\n",
    "Here ZAM and ZAP are the `Z*10000 + A*10 + M` representation for the parent and daugther nuclides."
   ]
  },
  {
   "cell_type": "markdown",
   "metadata": {},
   "source": [
    "## How to filter the fission yield data "
   ]
  },
  {
   "cell_type": "markdown",
   "metadata": {},
   "source": [
    "The fission yield data can be filtered directly applying the `pandas` functionality to attribute `.data`.\n",
    "However, we recommend using method `.filter_by` to make sure that the returned object be still a `sandy.Fy` instance."
   ]
  },
  {
   "cell_type": "markdown",
   "metadata": {},
   "source": [
    "Below are two examples where `sandy.Fy` instances are created first by filtering only the cumulative yield at thermal energy for the fission of U-235 (`ZAM=922350`), and then keeping only the cumulative fission yields at thermal energy for Cs-137 (`ZAP=551370`) independently of the fissioning nuclide."
   ]
  },
  {
   "cell_type": "code",
   "execution_count": null,
   "metadata": {},
   "outputs": [],
   "source": [
    "cfyU235 = fy.filter_by(\"ZAM\", 922350).filter_by(\"MT\", 459).filter_by(\"E\", 2.53e-2)\n",
    "cfyU235"
   ]
  },
  {
   "cell_type": "code",
   "execution_count": null,
   "metadata": {},
   "outputs": [],
   "source": [
    "cfyCs137 = fy.filter_by(\"ZAP\", 551370).filter_by(\"MT\", 459).filter_by(\"E\", 2.53e-2)\n",
    "cfyCs137"
   ]
  },
  {
   "cell_type": "markdown",
   "metadata": {},
   "source": [
    "## Plotting"
   ]
  },
  {
   "cell_type": "markdown",
   "metadata": {},
   "source": [
    "Plotting fission yields as a function of mass or charge can be cumbersome with the current information available in a `sandy.Fy` instance.\n",
    "In fact, to do so columns ZAM or ZAP should be *expanded* to their source components Z, A, M, where Z is the charge number, A is the number of nucleons and M is the metastate number.\n",
    "\n",
    "Here we introduce two new methods that do exactly what required: `._expand_zap` and `._expand_zam`.\n",
    "\n",
    "The first method returns a copy a of the `.data` attribute with three extra columns: the Z, A and M of the fission product.\n",
    "The second method returns a copy a of the `.data` attribute with three extra columns: the Z, A and M of the fissioning nuclide."
   ]
  },
  {
   "cell_type": "markdown",
   "metadata": {},
   "source": [
    "> Methods `._expand_zap` and `._expand_zam` return a `pd.DataFrame` and not a `sandy.Fy` instance."
   ]
  },
  {
   "cell_type": "code",
   "execution_count": null,
   "metadata": {},
   "outputs": [],
   "source": [
    "cfyU235._expand_zap().head()"
   ]
  },
  {
   "cell_type": "code",
   "execution_count": null,
   "metadata": {},
   "outputs": [],
   "source": [
    "fig, ax = plt.subplots(1,2, figsize=(10, 5))\n",
    "ax[0] = sns.scatterplot(x=\"A\", y=\"FY\", data=cfyU235._expand_zap(), ax=ax[0])\n",
    "ax[1] = sns.scatterplot(x=\"Z\", y=\"FY\", data=cfyU235._expand_zap(), ax=ax[1])\n",
    "\n",
    "ax[0].set_title(\"by mass\")\n",
    "ax[1].set_title(\"by charge\")\n",
    "\n",
    "plt.tight_layout();"
   ]
  },
  {
   "cell_type": "code",
   "execution_count": null,
   "metadata": {},
   "outputs": [],
   "source": [
    "cfyCs137._expand_zam().head()"
   ]
  },
  {
   "cell_type": "code",
   "execution_count": null,
   "metadata": {},
   "outputs": [],
   "source": [
    "fig, ax = plt.subplots(1, 2, figsize=(10, 5), sharey=True)\n",
    "\n",
    "ax[0] = sns.scatterplot(x=\"A\", y=\"FY\", data=cfyCs137._expand_zam(), ax=ax[0])\n",
    "ax[0].set_title(\"by mass\")\n",
    "\n",
    "ax[1] = sns.scatterplot(x=\"Z\", y=\"FY\", data=cfyCs137._expand_zam(), ax=ax[1])\n",
    "ax[1].set_title(\"by charge\")\n",
    "\n",
    "plt.tight_layout();"
   ]
  },
  {
   "cell_type": "markdown",
   "metadata": {},
   "source": [
    "## Tabulated fission yields as a function of energy"
   ]
  },
  {
   "cell_type": "markdown",
   "metadata": {},
   "source": [
    "It is sometimes important to have access to the fission yield data (either cumulaitve or independent, not both) as a tabulated function of energy.\n",
    "This can be done by calling method `.energy_table` where the fissioning nuclide is specified as an argument either as a ZAM or MAT number. "
   ]
  },
  {
   "cell_type": "markdown",
   "metadata": {},
   "source": [
    "Below we report an example for the cumulative yields of U-235."
   ]
  },
  {
   "cell_type": "code",
   "execution_count": null,
   "metadata": {},
   "outputs": [],
   "source": [
    "fy.energy_table(922350, by=\"ZAM\", kind=\"cumulative\")"
   ]
  },
  {
   "cell_type": "markdown",
   "metadata": {},
   "source": [
    "## Write to HDF5 file"
   ]
  },
  {
   "cell_type": "markdown",
   "metadata": {},
   "source": [
    "Codes like ALEPH read fission yields from nuclear data files in HDF5 format.\n",
    "To produce such files we can use `sandy` and method `Fy.to_hdf5`, which extracts and stores energy tables for each set of fission yields found in the `Fy` object."
   ]
  },
  {
   "cell_type": "markdown",
   "metadata": {},
   "source": [
    "As an example, we can transfer the whole content of the `fy` instance to a HDF5 file `'fy.hdf5'`."
   ]
  },
  {
   "cell_type": "code",
   "execution_count": null,
   "metadata": {},
   "outputs": [],
   "source": [
    "file = 'fy.hdf5'\n",
    "if os.path.exists(file):\n",
    "    os.remove(file)\n",
    "fy.to_hdf5(file, \"jeff_33\");"
   ]
  },
  {
   "cell_type": "markdown",
   "metadata": {},
   "source": [
    "The group key for each set of fission yields is `\"library/fy/kind/zam\"`, where\n",
    "- library: is the lowercase name of the library\n",
    "- fy: is the key \"fy\"\n",
    "- kind: is either \"independent\" or \"cumulative\"\n",
    "- zam: is the ZAM number of the parent nuclide"
   ]
  },
  {
   "cell_type": "markdown",
   "metadata": {},
   "source": [
    "> The energy values in the HDF5 file are converted into MeV."
   ]
  },
  {
   "cell_type": "code",
   "execution_count": null,
   "metadata": {},
   "outputs": [],
   "source": [
    "pd.read_hdf(file, key='jeff_33/fy/cumulative/922380')"
   ]
  },
  {
   "cell_type": "markdown",
   "metadata": {},
   "source": [
    "## Apply custom perturbations"
   ]
  },
  {
   "cell_type": "markdown",
   "metadata": {},
   "source": [
    "to be written"
   ]
  }
 ],
 "metadata": {
  "kernelspec": {
   "display_name": "Python3 (aleph-devel)",
   "language": "python",
   "name": "aleph-devel"
  },
  "language_info": {
   "codemirror_mode": {
    "name": "ipython",
    "version": 3
   },
   "file_extension": ".py",
   "mimetype": "text/x-python",
   "name": "python",
   "nbconvert_exporter": "python",
   "pygments_lexer": "ipython3",
   "version": "3.7.8"
  }
 },
 "nbformat": 4,
 "nbformat_minor": 2
}
