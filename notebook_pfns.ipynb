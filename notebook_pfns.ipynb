{
 "cells": [
  {
   "cell_type": "markdown",
   "metadata": {},
   "source": [
    "# Interacting with outgoing energy distributions in ENDF-6 format (MF=5)"
   ]
  },
  {
   "cell_type": "markdown",
   "metadata": {},
   "source": [
    "First let's import `sandy` and the other python packages for formatting and postprocessing that are used in this notebook."
   ]
  },
  {
   "cell_type": "code",
   "execution_count": 1,
   "metadata": {},
   "outputs": [],
   "source": [
    "import urllib\n",
    "import yaml"
   ]
  },
  {
   "cell_type": "code",
   "execution_count": 2,
   "metadata": {},
   "outputs": [],
   "source": [
    "import matplotlib.pyplot as plt\n",
    "import seaborn as sns\n",
    "\n",
    "sns.set_style(\"whitegrid\")\n",
    "sns.set_context(\"notebook\")\n",
    "\n",
    "%matplotlib inline"
   ]
  },
  {
   "cell_type": "code",
   "execution_count": 3,
   "metadata": {},
   "outputs": [],
   "source": [
    "import pandas as pd"
   ]
  },
  {
   "cell_type": "code",
   "execution_count": 4,
   "metadata": {},
   "outputs": [],
   "source": [
    "import sandy"
   ]
  },
  {
   "cell_type": "markdown",
   "metadata": {},
   "source": [
    "## Parsing the data in ENDF-6 format"
   ]
  },
  {
   "cell_type": "markdown",
   "metadata": {},
   "source": [
    "The first thing that we want to do with an evaluated nuclear data  file in ENDF-6 format is to load its content into python using `sandy`.\n",
    "By calling `sandy.Endf6.from_file`, the ENDF-6 file is parsed and its content is split into text sections, each of them indexed by a unique combination of MAT, MF and MT numbers. "
   ]
  },
  {
   "cell_type": "markdown",
   "metadata": {},
   "source": [
    "Below we report an example using the JEFF-3.1.2 Pu-239 evaluated file available on the [OECD/NEA website](https://www.oecd-nea.org/dbforms/data/eva/evatapes/jeff_31/JEFF312/).\n",
    "The file content is loaded into the `Endf6` instance that we name `tape`."
   ]
  },
  {
   "cell_type": "code",
   "execution_count": 5,
   "metadata": {},
   "outputs": [],
   "source": [
    "url = \"https://www.oecd-nea.org/dbforms/data/eva/evatapes/jeff_31/JEFF312/final/JEFF312N9437_0.ASC\"\n",
    "with urllib.request.urlopen(url) as f:\n",
    "    text = f.read().decode('utf-8')"
   ]
  },
  {
   "cell_type": "code",
   "execution_count": 6,
   "metadata": {},
   "outputs": [],
   "source": [
    "%%capture\n",
    "tape = sandy.Endf6.from_text(text)"
   ]
  },
  {
   "cell_type": "markdown",
   "metadata": {},
   "source": [
    "The combinations of `(MAT MF, MT)` numbers found in the loaded file are accessible using attribute `keys`."
   ]
  },
  {
   "cell_type": "code",
   "execution_count": 7,
   "metadata": {},
   "outputs": [
    {
     "data": {
      "text/plain": [
       "dict_keys([(9437, 1, 451), (9437, 1, 452), (9437, 1, 455), (9437, 1, 456), (9437, 1, 458), (9437, 2, 151), (9437, 3, 1), (9437, 3, 2), (9437, 3, 3), (9437, 3, 4), (9437, 3, 16), (9437, 3, 17), (9437, 3, 18), (9437, 3, 37), (9437, 3, 51), (9437, 3, 52), (9437, 3, 53), (9437, 3, 54), (9437, 3, 55), (9437, 3, 56), (9437, 3, 57), (9437, 3, 58), (9437, 3, 59), (9437, 3, 60), (9437, 3, 61), (9437, 3, 62), (9437, 3, 63), (9437, 3, 64), (9437, 3, 65), (9437, 3, 66), (9437, 3, 67), (9437, 3, 68), (9437, 3, 69), (9437, 3, 70), (9437, 3, 71), (9437, 3, 72), (9437, 3, 73), (9437, 3, 74), (9437, 3, 75), (9437, 3, 76), (9437, 3, 77), (9437, 3, 91), (9437, 3, 102), (9437, 4, 2), (9437, 4, 16), (9437, 4, 17), (9437, 4, 18), (9437, 4, 37), (9437, 4, 51), (9437, 4, 52), (9437, 4, 53), (9437, 4, 54), (9437, 4, 55), (9437, 4, 56), (9437, 4, 57), (9437, 4, 58), (9437, 4, 59), (9437, 4, 60), (9437, 4, 61), (9437, 4, 62), (9437, 4, 63), (9437, 4, 64), (9437, 4, 65), (9437, 4, 66), (9437, 4, 67), (9437, 4, 68), (9437, 4, 69), (9437, 4, 70), (9437, 4, 71), (9437, 4, 72), (9437, 4, 73), (9437, 4, 74), (9437, 4, 75), (9437, 4, 76), (9437, 4, 77), (9437, 4, 91), (9437, 5, 16), (9437, 5, 17), (9437, 5, 18), (9437, 5, 37), (9437, 5, 91), (9437, 5, 455)])"
      ]
     },
     "execution_count": 7,
     "metadata": {},
     "output_type": "execute_result"
    }
   ],
   "source": [
    "tape.keys"
   ]
  },
  {
   "cell_type": "markdown",
   "metadata": {},
   "source": [
    "Now, the information available in each `(MAT, MF, MT)` section in ASCII format can be extracted using method `.read_section`, \n",
    "as shown below."
   ]
  },
  {
   "cell_type": "code",
   "execution_count": 8,
   "metadata": {},
   "outputs": [],
   "source": [
    "mat = 9437  # This is Pu-239\n",
    "mf = 5\n",
    "mt = 455\n",
    "\n",
    "section = tape.read_section(mat, mf, mt)"
   ]
  },
  {
   "cell_type": "markdown",
   "metadata": {},
   "source": [
    "Let's print some pieces of information that were extracted with `.read_section`.\n",
    "> `.read_section` returns data hierarchly structures as a `dict` of `dict`."
   ]
  },
  {
   "cell_type": "code",
   "execution_count": 9,
   "metadata": {},
   "outputs": [
    {
     "name": "stdout",
     "output_type": "stream",
     "text": [
      "\n",
      "MAT:    9437\n",
      "MF:       5\n",
      "MT:     455\n",
      "AWR:   237.0\n",
      "PDISTR: [0, 1, 2, 3, 4, 5, 6, 7]\n",
      "\n"
     ]
    }
   ],
   "source": [
    "print(f\"\"\"\n",
    "MAT:{section[\"MAT\"]:>8d}\n",
    "MF:{section[\"MF\"]:>8d}\n",
    "MT:{section[\"MT\"]:>8d}\n",
    "AWR:{section[\"AWR\"]:>8.1f}\n",
    "PDISTR: {list(section[\"PDISTR\"].keys())}\n",
    "\"\"\")"
   ]
  },
  {
   "cell_type": "markdown",
   "metadata": {},
   "source": [
    "Delayed-neutron spectra in MT=455 section are given in 8 groups!\n",
    "Let's recall the the abundance of each delayed-neutron group is available in MF=5 MT=455."
   ]
  },
  {
   "cell_type": "markdown",
   "metadata": {},
   "source": [
    "By parsing the section content we can extract the abundance of each delayed-neutron group as a function of incident-neutron energy.\n",
    "Below er report the abundances for the first group!"
   ]
  },
  {
   "cell_type": "code",
   "execution_count": 10,
   "metadata": {},
   "outputs": [
    {
     "data": {
      "text/html": [
       "<div>\n",
       "<style scoped>\n",
       "    .dataframe tbody tr th:only-of-type {\n",
       "        vertical-align: middle;\n",
       "    }\n",
       "\n",
       "    .dataframe tbody tr th {\n",
       "        vertical-align: top;\n",
       "    }\n",
       "\n",
       "    .dataframe thead th {\n",
       "        text-align: right;\n",
       "    }\n",
       "</style>\n",
       "<table border=\"1\" class=\"dataframe\">\n",
       "  <thead>\n",
       "    <tr style=\"text-align: right;\">\n",
       "      <th></th>\n",
       "      <th>energy</th>\n",
       "      <th>abundance</th>\n",
       "    </tr>\n",
       "  </thead>\n",
       "  <tbody>\n",
       "    <tr>\n",
       "      <th>0</th>\n",
       "      <td>1.00000e-05</td>\n",
       "      <td>3.19064e-02</td>\n",
       "    </tr>\n",
       "    <tr>\n",
       "      <th>1</th>\n",
       "      <td>1.00000e+00</td>\n",
       "      <td>2.87971e-02</td>\n",
       "    </tr>\n",
       "    <tr>\n",
       "      <th>2</th>\n",
       "      <td>5.00000e+06</td>\n",
       "      <td>2.87971e-02</td>\n",
       "    </tr>\n",
       "    <tr>\n",
       "      <th>3</th>\n",
       "      <td>1.30000e+07</td>\n",
       "      <td>4.84569e-02</td>\n",
       "    </tr>\n",
       "    <tr>\n",
       "      <th>4</th>\n",
       "      <td>3.00000e+07</td>\n",
       "      <td>4.84569e-02</td>\n",
       "    </tr>\n",
       "  </tbody>\n",
       "</table>\n",
       "</div>"
      ],
      "text/plain": [
       "       energy   abundance\n",
       "0 1.00000e-05 3.19064e-02\n",
       "1 1.00000e+00 2.87971e-02\n",
       "2 5.00000e+06 2.87971e-02\n",
       "3 1.30000e+07 4.84569e-02\n",
       "4 3.00000e+07 4.84569e-02"
      ]
     },
     "execution_count": 10,
     "metadata": {},
     "output_type": "execute_result"
    }
   ],
   "source": [
    "distr_1g = section[\"PDISTR\"][0]\n",
    "pd.DataFrame({\n",
    "    \"energy\": distr_1g[\"E_P\"],\n",
    "    \"abundance\": distr_1g[\"P\"]\n",
    "})"
   ]
  },
  {
   "cell_type": "markdown",
   "metadata": {},
   "source": [
    "## Create a `sandy.Edistr` object"
   ]
  },
  {
   "cell_type": "markdown",
   "metadata": {},
   "source": [
    "Class `sandy.Edistr` was developed to store and process outgoing energy distributions, that is, basically everythingg in a MF=5 section.\n",
    "\n",
    "The ASCII content in a `sandy.Endf6` instance can be used to intialize s `sandy.Edistr` instance using classmethod `.from_endf6`, where the `sandy.Endf6` object is passed as an argument."
   ]
  },
  {
   "cell_type": "code",
   "execution_count": 11,
   "metadata": {},
   "outputs": [
    {
     "name": "stderr",
     "output_type": "stream",
     "text": [
      "WARNING:  non-tabulated distribution for MAT9437/MF5/MT91, subsection 0\n",
      "WARNING:  found non-linlin interpolation, skip distribution for MAT9437/MF5/MT455, subsection 0\n",
      "WARNING:  found non-linlin interpolation, skip distribution for MAT9437/MF5/MT455, subsection 1\n",
      "WARNING:  found non-linlin interpolation, skip distribution for MAT9437/MF5/MT455, subsection 2\n",
      "WARNING:  found non-linlin interpolation, skip distribution for MAT9437/MF5/MT455, subsection 3\n",
      "WARNING:  found non-linlin interpolation, skip distribution for MAT9437/MF5/MT455, subsection 4\n",
      "WARNING:  found non-linlin interpolation, skip distribution for MAT9437/MF5/MT455, subsection 5\n",
      "WARNING:  found non-linlin interpolation, skip distribution for MAT9437/MF5/MT455, subsection 6\n",
      "WARNING:  found non-linlin interpolation, skip distribution for MAT9437/MF5/MT455, subsection 7\n"
     ]
    }
   ],
   "source": [
    "tabs = sandy.Edistr.from_endf6(tape)"
   ]
  },
  {
   "cell_type": "markdown",
   "metadata": {},
   "source": [
    "> At the moment sandy only works with:\n",
    ">  - tabulated distributions,\n",
    ">  - distributions that can be linearly interpolated both on the incoming and outgoing neutron energies."
   ]
  },
  {
   "cell_type": "markdown",
   "metadata": {},
   "source": [
    "A `sandy.Edistr` instance contains everything that was given in input, i.e. all spectra for all MT reactions that were found.\n",
    "Still, we can filter this object to get the data we need using method `.filter_by` which takes a key and a value.\n",
    "\n",
    "Below we filter the prompt-neutron fission spectra, but we can also add other filters such as on `EIN`, `EOUT`, ... "
   ]
  },
  {
   "cell_type": "code",
   "execution_count": 12,
   "metadata": {},
   "outputs": [
    {
     "data": {
      "text/plain": [
       "       MAT  MT  K         EIN        EOUT       VALUE\n",
       "0     9437  18  0 1.00000e-05 1.00000e-05 1.76602e-12\n",
       "1     9437  18  0 1.00000e-05 1.00000e-04 5.58466e-12\n",
       "2     9437  18  0 1.00000e-05 1.00000e-03 1.76602e-11\n",
       "3     9437  18  0 1.00000e-05 1.00000e-02 5.58466e-11\n",
       "4     9437  18  0 1.00000e-05 1.00000e-01 1.76602e-10\n",
       "...    ...  .. ..         ...         ...         ...\n",
       "6345  9437  18  0 3.00000e+07 2.42000e+07 1.89471e-12\n",
       "6346  9437  18  0 3.00000e+07 2.44000e+07 1.70367e-12\n",
       "6347  9437  18  0 3.00000e+07 2.46000e+07 1.53189e-12\n",
       "6348  9437  18  0 3.00000e+07 2.48000e+07 1.37743e-12\n",
       "6349  9437  18  0 3.00000e+07 2.50000e+07 1.23854e-12\n",
       "\n",
       "[6350 rows x 6 columns]"
      ]
     },
     "execution_count": 12,
     "metadata": {},
     "output_type": "execute_result"
    }
   ],
   "source": [
    "pfns = tabs.filter_by(\"MT\", 18)\n",
    "pfns"
   ]
  },
  {
   "cell_type": "markdown",
   "metadata": {},
   "source": [
    "SANDY is based on composition rather than inheritance, and the source data of an instance can always be found in attribute `data` as a `pandas.DataFrame`\n",
    "\n",
    "Being a dataframe, we can use all `pandas` features to manipulate data, such as extracting all incoming neutron energies for PFNS."
   ]
  },
  {
   "cell_type": "code",
   "execution_count": 13,
   "metadata": {},
   "outputs": [
    {
     "data": {
      "text/plain": [
       "array([1.0e-05, 1.0e+05, 5.0e+05, 1.0e+06, 2.0e+06, 3.0e+06, 4.0e+06,\n",
       "       5.0e+06, 6.0e+06, 7.0e+06, 8.0e+06, 9.0e+06, 1.0e+07, 1.1e+07,\n",
       "       1.2e+07, 1.3e+07, 1.4e+07, 1.5e+07, 1.8e+07, 2.0e+07, 2.2e+07,\n",
       "       2.4e+07, 2.6e+07, 2.8e+07, 3.0e+07])"
      ]
     },
     "execution_count": 13,
     "metadata": {},
     "output_type": "execute_result"
    }
   ],
   "source": [
    "pfns.data.EIN.unique()"
   ]
  },
  {
   "cell_type": "markdown",
   "metadata": {},
   "source": [
    "Here we display the PFNS for incoming neutron energies below $10^{-5}$ eV and between $10^{-5}$ eV and $10^{5}$ eV."
   ]
  },
  {
   "cell_type": "code",
   "execution_count": 14,
   "metadata": {},
   "outputs": [
    {
     "data": {
      "text/plain": [
       "      MAT  MT  K         EIN        EOUT       VALUE\n",
       "0    9437  18  0 1.00000e-05 1.00000e-05 1.76602e-12\n",
       "1    9437  18  0 1.00000e-05 1.00000e-04 5.58466e-12\n",
       "2    9437  18  0 1.00000e-05 1.00000e-03 1.76602e-11\n",
       "3    9437  18  0 1.00000e-05 1.00000e-02 5.58466e-11\n",
       "4    9437  18  0 1.00000e-05 1.00000e-01 1.76602e-10\n",
       "..    ...  .. ..         ...         ...         ...\n",
       "249  9437  18  0 1.00000e-05 2.42000e+07 2.95328e-14\n",
       "250  9437  18  0 1.00000e-05 2.44000e+07 2.52658e-14\n",
       "251  9437  18  0 1.00000e-05 2.46000e+07 2.16128e-14\n",
       "252  9437  18  0 1.00000e-05 2.48000e+07 1.84859e-14\n",
       "253  9437  18  0 1.00000e-05 2.50000e+07 1.58096e-14\n",
       "\n",
       "[254 rows x 6 columns]"
      ]
     },
     "execution_count": 14,
     "metadata": {},
     "output_type": "execute_result"
    }
   ],
   "source": [
    "pfns.filter_by(\"EIN\", 1E-5)"
   ]
  },
  {
   "cell_type": "code",
   "execution_count": 15,
   "metadata": {},
   "outputs": [
    {
     "data": {
      "text/plain": [
       "      MAT  MT  K         EIN        EOUT       VALUE\n",
       "0    9437  18  0 1.00000e+05 1.00000e-05 1.76379e-12\n",
       "1    9437  18  0 1.00000e+05 1.00000e-04 5.57760e-12\n",
       "2    9437  18  0 1.00000e+05 1.00000e-03 1.76379e-11\n",
       "3    9437  18  0 1.00000e+05 1.00000e-02 5.57760e-11\n",
       "4    9437  18  0 1.00000e+05 1.00000e-01 1.76379e-10\n",
       "..    ...  .. ..         ...         ...         ...\n",
       "249  9437  18  0 1.00000e+05 2.42000e+07 3.04724e-14\n",
       "250  9437  18  0 1.00000e+05 2.44000e+07 2.60779e-14\n",
       "251  9437  18  0 1.00000e+05 2.46000e+07 2.23146e-14\n",
       "252  9437  18  0 1.00000e+05 2.48000e+07 1.90923e-14\n",
       "253  9437  18  0 1.00000e+05 2.50000e+07 1.63335e-14\n",
       "\n",
       "[254 rows x 6 columns]"
      ]
     },
     "execution_count": 15,
     "metadata": {},
     "output_type": "execute_result"
    }
   ],
   "source": [
    "pfns.filter_by(\"EIN\", 1E5)"
   ]
  },
  {
   "cell_type": "markdown",
   "metadata": {},
   "source": [
    "Below we plot all prompt-fission neutron spectra provided for different incoming neutron energies.\n",
    "Using `seaborn` the plot shows the average spectrum (**not the weighted-average spectrum!**) and the deviation (1$\\sigma$) as a solid band."
   ]
  },
  {
   "cell_type": "code",
   "execution_count": 16,
   "metadata": {},
   "outputs": [
    {
     "data": {
      "image/png": "[encoded data removed]",
      "text/plain": [
       "<Figure size 576x360 with 1 Axes>"
      ]
     },
     "metadata": {
      "needs_background": "light"
     },
     "output_type": "display_data"
    }
   ],
   "source": [
    "fig, ax = plt.subplots(figsize=(8, 5))\n",
    "\n",
    "sns.lineplot(data=pfns.data, x=\"EOUT\", y=\"VALUE\", ax=ax)\n",
    "ax.set_xlabel(\"Prompt-fission neutron energy / $MeV$\")\n",
    "ax.set_xlabel(\"PFNS\")\n",
    "\n",
    "plt.tight_layout()"
   ]
  },
  {
   "cell_type": "markdown",
   "metadata": {},
   "source": [
    "If you suspect that the spectra are not normalized, you can call method `.normalize` to impose a normalization to unit of all probablity density functions."
   ]
  },
  {
   "cell_type": "markdown",
   "metadata": {},
   "source": [
    "Calling method `.get_integrals()` you can check the integral of each spectrum (it should be 1)."
   ]
  },
  {
   "cell_type": "code",
   "execution_count": 17,
   "metadata": {},
   "outputs": [
    {
     "data": {
      "text/html": [
       "<div>\n",
       "<style scoped>\n",
       "    .dataframe tbody tr th:only-of-type {\n",
       "        vertical-align: middle;\n",
       "    }\n",
       "\n",
       "    .dataframe tbody tr th {\n",
       "        vertical-align: top;\n",
       "    }\n",
       "\n",
       "    .dataframe thead th {\n",
       "        text-align: right;\n",
       "    }\n",
       "</style>\n",
       "<table border=\"1\" class=\"dataframe\">\n",
       "  <thead>\n",
       "    <tr style=\"text-align: right;\">\n",
       "      <th></th>\n",
       "      <th>MAT</th>\n",
       "      <th>MT</th>\n",
       "      <th>K</th>\n",
       "      <th>EIN</th>\n",
       "      <th>INTEGRAL</th>\n",
       "    </tr>\n",
       "  </thead>\n",
       "  <tbody>\n",
       "    <tr>\n",
       "      <th>0</th>\n",
       "      <td>9437</td>\n",
       "      <td>18</td>\n",
       "      <td>0</td>\n",
       "      <td>1.00000e-05</td>\n",
       "      <td>1.00000e+00</td>\n",
       "    </tr>\n",
       "    <tr>\n",
       "      <th>1</th>\n",
       "      <td>9437</td>\n",
       "      <td>18</td>\n",
       "      <td>0</td>\n",
       "      <td>1.00000e+05</td>\n",
       "      <td>1.00000e+00</td>\n",
       "    </tr>\n",
       "    <tr>\n",
       "      <th>2</th>\n",
       "      <td>9437</td>\n",
       "      <td>18</td>\n",
       "      <td>0</td>\n",
       "      <td>5.00000e+05</td>\n",
       "      <td>1.00000e+00</td>\n",
       "    </tr>\n",
       "    <tr>\n",
       "      <th>3</th>\n",
       "      <td>9437</td>\n",
       "      <td>18</td>\n",
       "      <td>0</td>\n",
       "      <td>1.00000e+06</td>\n",
       "      <td>1.00000e+00</td>\n",
       "    </tr>\n",
       "    <tr>\n",
       "      <th>4</th>\n",
       "      <td>9437</td>\n",
       "      <td>18</td>\n",
       "      <td>0</td>\n",
       "      <td>2.00000e+06</td>\n",
       "      <td>1.00000e+00</td>\n",
       "    </tr>\n",
       "    <tr>\n",
       "      <th>5</th>\n",
       "      <td>9437</td>\n",
       "      <td>18</td>\n",
       "      <td>0</td>\n",
       "      <td>3.00000e+06</td>\n",
       "      <td>1.00000e+00</td>\n",
       "    </tr>\n",
       "    <tr>\n",
       "      <th>6</th>\n",
       "      <td>9437</td>\n",
       "      <td>18</td>\n",
       "      <td>0</td>\n",
       "      <td>4.00000e+06</td>\n",
       "      <td>1.00000e+00</td>\n",
       "    </tr>\n",
       "    <tr>\n",
       "      <th>7</th>\n",
       "      <td>9437</td>\n",
       "      <td>18</td>\n",
       "      <td>0</td>\n",
       "      <td>5.00000e+06</td>\n",
       "      <td>1.00000e+00</td>\n",
       "    </tr>\n",
       "    <tr>\n",
       "      <th>8</th>\n",
       "      <td>9437</td>\n",
       "      <td>18</td>\n",
       "      <td>0</td>\n",
       "      <td>6.00000e+06</td>\n",
       "      <td>1.00000e+00</td>\n",
       "    </tr>\n",
       "    <tr>\n",
       "      <th>9</th>\n",
       "      <td>9437</td>\n",
       "      <td>18</td>\n",
       "      <td>0</td>\n",
       "      <td>7.00000e+06</td>\n",
       "      <td>1.00000e+00</td>\n",
       "    </tr>\n",
       "    <tr>\n",
       "      <th>10</th>\n",
       "      <td>9437</td>\n",
       "      <td>18</td>\n",
       "      <td>0</td>\n",
       "      <td>8.00000e+06</td>\n",
       "      <td>1.00000e+00</td>\n",
       "    </tr>\n",
       "    <tr>\n",
       "      <th>11</th>\n",
       "      <td>9437</td>\n",
       "      <td>18</td>\n",
       "      <td>0</td>\n",
       "      <td>9.00000e+06</td>\n",
       "      <td>1.00000e+00</td>\n",
       "    </tr>\n",
       "    <tr>\n",
       "      <th>12</th>\n",
       "      <td>9437</td>\n",
       "      <td>18</td>\n",
       "      <td>0</td>\n",
       "      <td>1.00000e+07</td>\n",
       "      <td>1.00000e+00</td>\n",
       "    </tr>\n",
       "    <tr>\n",
       "      <th>13</th>\n",
       "      <td>9437</td>\n",
       "      <td>18</td>\n",
       "      <td>0</td>\n",
       "      <td>1.10000e+07</td>\n",
       "      <td>1.00000e+00</td>\n",
       "    </tr>\n",
       "    <tr>\n",
       "      <th>14</th>\n",
       "      <td>9437</td>\n",
       "      <td>18</td>\n",
       "      <td>0</td>\n",
       "      <td>1.20000e+07</td>\n",
       "      <td>1.00000e+00</td>\n",
       "    </tr>\n",
       "    <tr>\n",
       "      <th>15</th>\n",
       "      <td>9437</td>\n",
       "      <td>18</td>\n",
       "      <td>0</td>\n",
       "      <td>1.30000e+07</td>\n",
       "      <td>1.00000e+00</td>\n",
       "    </tr>\n",
       "    <tr>\n",
       "      <th>16</th>\n",
       "      <td>9437</td>\n",
       "      <td>18</td>\n",
       "      <td>0</td>\n",
       "      <td>1.40000e+07</td>\n",
       "      <td>1.00000e+00</td>\n",
       "    </tr>\n",
       "    <tr>\n",
       "      <th>17</th>\n",
       "      <td>9437</td>\n",
       "      <td>18</td>\n",
       "      <td>0</td>\n",
       "      <td>1.50000e+07</td>\n",
       "      <td>1.00000e+00</td>\n",
       "    </tr>\n",
       "    <tr>\n",
       "      <th>18</th>\n",
       "      <td>9437</td>\n",
       "      <td>18</td>\n",
       "      <td>0</td>\n",
       "      <td>1.80000e+07</td>\n",
       "      <td>1.00000e+00</td>\n",
       "    </tr>\n",
       "    <tr>\n",
       "      <th>19</th>\n",
       "      <td>9437</td>\n",
       "      <td>18</td>\n",
       "      <td>0</td>\n",
       "      <td>2.00000e+07</td>\n",
       "      <td>1.00000e+00</td>\n",
       "    </tr>\n",
       "    <tr>\n",
       "      <th>20</th>\n",
       "      <td>9437</td>\n",
       "      <td>18</td>\n",
       "      <td>0</td>\n",
       "      <td>2.20000e+07</td>\n",
       "      <td>1.00000e+00</td>\n",
       "    </tr>\n",
       "    <tr>\n",
       "      <th>21</th>\n",
       "      <td>9437</td>\n",
       "      <td>18</td>\n",
       "      <td>0</td>\n",
       "      <td>2.40000e+07</td>\n",
       "      <td>1.00000e+00</td>\n",
       "    </tr>\n",
       "    <tr>\n",
       "      <th>22</th>\n",
       "      <td>9437</td>\n",
       "      <td>18</td>\n",
       "      <td>0</td>\n",
       "      <td>2.60000e+07</td>\n",
       "      <td>1.00000e+00</td>\n",
       "    </tr>\n",
       "    <tr>\n",
       "      <th>23</th>\n",
       "      <td>9437</td>\n",
       "      <td>18</td>\n",
       "      <td>0</td>\n",
       "      <td>2.80000e+07</td>\n",
       "      <td>1.00000e+00</td>\n",
       "    </tr>\n",
       "    <tr>\n",
       "      <th>24</th>\n",
       "      <td>9437</td>\n",
       "      <td>18</td>\n",
       "      <td>0</td>\n",
       "      <td>3.00000e+07</td>\n",
       "      <td>1.00000e+00</td>\n",
       "    </tr>\n",
       "  </tbody>\n",
       "</table>\n",
       "</div>"
      ],
      "text/plain": [
       "     MAT  MT  K         EIN    INTEGRAL\n",
       "0   9437  18  0 1.00000e-05 1.00000e+00\n",
       "1   9437  18  0 1.00000e+05 1.00000e+00\n",
       "2   9437  18  0 5.00000e+05 1.00000e+00\n",
       "3   9437  18  0 1.00000e+06 1.00000e+00\n",
       "4   9437  18  0 2.00000e+06 1.00000e+00\n",
       "5   9437  18  0 3.00000e+06 1.00000e+00\n",
       "6   9437  18  0 4.00000e+06 1.00000e+00\n",
       "7   9437  18  0 5.00000e+06 1.00000e+00\n",
       "8   9437  18  0 6.00000e+06 1.00000e+00\n",
       "9   9437  18  0 7.00000e+06 1.00000e+00\n",
       "10  9437  18  0 8.00000e+06 1.00000e+00\n",
       "11  9437  18  0 9.00000e+06 1.00000e+00\n",
       "12  9437  18  0 1.00000e+07 1.00000e+00\n",
       "13  9437  18  0 1.10000e+07 1.00000e+00\n",
       "14  9437  18  0 1.20000e+07 1.00000e+00\n",
       "15  9437  18  0 1.30000e+07 1.00000e+00\n",
       "16  9437  18  0 1.40000e+07 1.00000e+00\n",
       "17  9437  18  0 1.50000e+07 1.00000e+00\n",
       "18  9437  18  0 1.80000e+07 1.00000e+00\n",
       "19  9437  18  0 2.00000e+07 1.00000e+00\n",
       "20  9437  18  0 2.20000e+07 1.00000e+00\n",
       "21  9437  18  0 2.40000e+07 1.00000e+00\n",
       "22  9437  18  0 2.60000e+07 1.00000e+00\n",
       "23  9437  18  0 2.80000e+07 1.00000e+00\n",
       "24  9437  18  0 3.00000e+07 1.00000e+00"
      ]
     },
     "execution_count": 17,
     "metadata": {},
     "output_type": "execute_result"
    }
   ],
   "source": [
    "pfns.normalize().get_integrals()"
   ]
  }
 ],
 "metadata": {
  "kernelspec": {
   "display_name": "Python (aleph-test)",
   "language": "python",
   "name": "aleph-test"
  },
  "language_info": {
   "codemirror_mode": {
    "name": "ipython",
    "version": 3
   },
   "file_extension": ".py",
   "mimetype": "text/x-python",
   "name": "python",
   "nbconvert_exporter": "python",
   "pygments_lexer": "ipython3",
   "version": "3.7.8"
  }
 },
 "nbformat": 4,
 "nbformat_minor": 4
}
